{
 "cells": [
  {
   "cell_type": "markdown",
   "id": "e6f74597",
   "metadata": {},
   "source": [
    "# Parsing WARC File"
   ]
  },
  {
   "cell_type": "markdown",
   "id": "50270972",
   "metadata": {},
   "source": [
    "### 🛠 Installing Necessary Libraries\n",
    "\n",
    "Toplam işlenen kayıt: 98984\n",
    "Toplam geçen süre: 7211.72 saniye\n",
    "Saniyede ortalama kayıt: 13.73\n",
    "\n",
    "Bu kayıtlar için başlık, url ve html bilgileri çıkarılarak sqlite db'ye kaydedildi"
   ]
  },
  {
   "cell_type": "code",
   "execution_count": 9,
   "id": "33aa26e3",
   "metadata": {},
   "outputs": [
    {
     "name": "stdout",
     "output_type": "stream",
     "text": [
      "Requirement already satisfied: warcio in /opt/anaconda3/lib/python3.12/site-packages (1.7.5)\n",
      "Requirement already satisfied: beautifulsoup4 in /opt/anaconda3/lib/python3.12/site-packages (4.12.3)\n",
      "Requirement already satisfied: psycopg2-binary in /opt/anaconda3/lib/python3.12/site-packages (2.9.10)\n",
      "Requirement already satisfied: six in /opt/anaconda3/lib/python3.12/site-packages (from warcio) (1.16.0)\n",
      "Requirement already satisfied: soupsieve>1.2 in /opt/anaconda3/lib/python3.12/site-packages (from beautifulsoup4) (2.5)\n",
      "Note: you may need to restart the kernel to use updated packages.\n"
     ]
    }
   ],
   "source": [
    "pip install warcio beautifulsoup4 psycopg2-binary"
   ]
  },
  {
   "cell_type": "code",
   "execution_count": 10,
   "id": "edd25056",
   "metadata": {},
   "outputs": [],
   "source": [
    "# from warcio.archiveiterator import ArchiveIterator\n",
    "# from bs4 import BeautifulSoup\n",
    "# import sqlite3\n",
    "# import time\n",
    "\n",
    "# def process_warc_file_in_chunks(warc_path, db_path, batch_size=100):\n",
    "#     \"\"\"\n",
    "#     WARC dosyasını parça parça işleyerek SQLite'a kaydeder\n",
    "    \n",
    "#     Args:\n",
    "#         warc_path: WARC dosyasının yolu\n",
    "#         db_path: SQLite veritabanının yolu\n",
    "#         batch_size: Her defasında işlenecek kayıt sayısı\n",
    "#     \"\"\"\n",
    "#     # SQLite bağlantısını oluştur\n",
    "#     conn = sqlite3.connect(db_path)\n",
    "#     c = conn.cursor()\n",
    "    \n",
    "#     # Tablo oluştur (eğer yoksa)\n",
    "#     c.execute('CREATE TABLE IF NOT EXISTS pages (id INTEGER PRIMARY KEY, url TEXT, title TEXT, html TEXT)')\n",
    "    \n",
    "#     # İşleme istatistikleri\n",
    "#     start_time = time.time()\n",
    "#     total_records = 0\n",
    "#     batch_records = []\n",
    "    \n",
    "#     # WARC dosyasını aç ve kayıtları işle\n",
    "#     with open(warc_path, 'rb') as stream:\n",
    "#         for record in ArchiveIterator(stream):\n",
    "#             if record.rec_type == 'response':\n",
    "#                 try:\n",
    "#                     url = record.rec_headers.get_header('WARC-Target-URI')\n",
    "#                     raw_html = record.content_stream().read().decode('utf-8', errors='replace')\n",
    "                    \n",
    "#                     soup = BeautifulSoup(raw_html, 'html.parser')\n",
    "#                     title = soup.title.string if soup.title else ''\n",
    "                    \n",
    "#                     batch_records.append((url, title, raw_html))\n",
    "#                     total_records += 1\n",
    "                    \n",
    "#                     # Belirli bir sayıda kayıt toplandıysa veritabanına kaydet\n",
    "#                     if len(batch_records) >= batch_size:\n",
    "#                         c.executemany('INSERT INTO pages (url, title, html) VALUES (?, ?, ?)', batch_records)\n",
    "#                         conn.commit()\n",
    "                        \n",
    "#                         elapsed_time = time.time() - start_time\n",
    "#                         print(f\"İşlenen kayıt: {total_records}, Geçen süre: {elapsed_time:.2f} saniye\")\n",
    "                        \n",
    "#                         # Belleği temizle\n",
    "#                         batch_records = []\n",
    "                \n",
    "#                 except Exception as e:\n",
    "#                     print(f\"Hata oluştu: {e} - URL: {url if 'url' in locals() else 'bilinmiyor'}\")\n",
    "    \n",
    "#     # Kalan kayıtları kaydet\n",
    "#     if batch_records:\n",
    "#         c.executemany('INSERT INTO pages (url, title, html) VALUES (?, ?, ?)', batch_records)\n",
    "#         conn.commit()\n",
    "    \n",
    "#     # İstatistikleri göster\n",
    "#     total_time = time.time() - start_time\n",
    "#     print(f\"Toplam işlenen kayıt: {total_records}\")\n",
    "#     print(f\"Toplam geçen süre: {total_time:.2f} saniye\")\n",
    "#     print(f\"Saniyede ortalama kayıt: {total_records/total_time:.2f}\")\n",
    "    \n",
    "#     conn.close()\n",
    "\n",
    "# # Kodu çalıştır\n",
    "# warc_file = \"./website_data.warc\"\n",
    "# db_file = \"websites.db\"\n",
    "# process_warc_file_in_chunks(warc_file, db_file, batch_size=500)"
   ]
  },
  {
   "cell_type": "markdown",
   "id": "91931836",
   "metadata": {},
   "source": [
    "### WARC dosyasının parse edilip PostgreSQL DB'ye kaydedilmesi"
   ]
  },
  {
   "cell_type": "code",
   "execution_count": 11,
   "id": "4d6f4466",
   "metadata": {},
   "outputs": [],
   "source": [
    "from warcio.archiveiterator import ArchiveIterator\n",
    "from bs4 import BeautifulSoup\n",
    "import psycopg2\n",
    "import time\n",
    "from psycopg2.extras import execute_values\n",
    "from tqdm import tqdm  # tqdm kütüphanesini ekleyin\n",
    "\n",
    "def process_warc_file(warc_path, db_params, batch_size=100):\n",
    "    \"\"\"\n",
    "    WARC dosyasını parça parça işleyerek PostgreSQL'e kaydeder\n",
    "    \n",
    "    Args:\n",
    "        warc_path: WARC dosyasının yolu\n",
    "        db_params: PostgreSQL bağlantı parametreleri (dict)\n",
    "        batch_size: Her defasında işlenecek kayıt sayısı\n",
    "    \"\"\"\n",
    "    # PostgreSQL bağlantısını oluştur\n",
    "    conn = psycopg2.connect(**db_params)\n",
    "    print(\"connection success\", conn)\n",
    "    cur = conn.cursor()\n",
    "    print(\"cursor success\", cur)\n",
    "    \n",
    "    # İşleme istatistikleri\n",
    "    start_time = time.time()\n",
    "    total_records = 0\n",
    "    batch_records = []\n",
    "    \n",
    "    # WARC dosyasını aç ve kayıtları işle\n",
    "    with open(warc_path, 'rb') as stream:\n",
    "        # tqdm ile ilerleme çubuğunu ekleyin\n",
    "        print(\"started processing warc file\");\n",
    "        for record in tqdm(ArchiveIterator(stream), desc=\"İşlenen Kayıtlar\"):\n",
    "            if record.rec_type == 'response':\n",
    "                try:\n",
    "                    url = record.rec_headers.get_header('WARC-Target-URI')\n",
    "                    raw_html = record.content_stream().read().decode('utf-8', errors='replace')\n",
    "                    # remove null characters\n",
    "                    raw_html = raw_html.replace('\\x00', '')\n",
    "                    \n",
    "                    soup = BeautifulSoup(raw_html, 'html.parser')\n",
    "                    title = soup.title.string if soup.title else ''\n",
    "                    \n",
    "                    batch_records.append((url, title, raw_html))\n",
    "                    total_records += 1\n",
    "                    \n",
    "                    # Belirli bir sayıda kayıt toplandıysa veritabanına kaydet\n",
    "                    if len(batch_records) >= batch_size:\n",
    "                        print(\"inserting records to db\", len(batch_records));\n",
    "                        execute_values(cur,\n",
    "                            'INSERT INTO pages (url, title, html) VALUES %s',\n",
    "                            batch_records,\n",
    "                            template='(%s, %s, %s)'\n",
    "                        )\n",
    "                        conn.commit()\n",
    "                        \n",
    "                        # Belleği temizle\n",
    "                        batch_records = []\n",
    "            \n",
    "                except Exception as e:\n",
    "                    print(f\"Hata oluştu: {e} - URL: {url if 'url' in locals() else 'bilinmiyor'}\")\n",
    "    \n",
    "    # Kalan kayıtları kaydet\n",
    "    if batch_records:\n",
    "        execute_values(cur,\n",
    "            'INSERT INTO pages (url, title, html) VALUES %s',\n",
    "            batch_records,\n",
    "            template='(%s, %s, %s)'\n",
    "        )\n",
    "        conn.commit()\n",
    "    \n",
    "    # İstatistikleri göster\n",
    "    total_time = time.time() - start_time\n",
    "    print(f\"Toplam işlenen kayıt: {total_records}\")\n",
    "    print(f\"Toplam geçen süre: {total_time:.2f} saniye\")\n",
    "    print(f\"Saniyede ortalama kayıt: {total_records/total_time:.2f}\")\n",
    "    \n",
    "    cur.close()\n",
    "    conn.close()"
   ]
  },
  {
   "cell_type": "code",
   "execution_count": 12,
   "id": "320e4ff7",
   "metadata": {},
   "outputs": [
    {
     "name": "stdout",
     "output_type": "stream",
     "text": [
      "connection success <connection object at 0x10d2a2650; dsn: 'user=postgres password=xxx dbname=websites host=localhost port=5432', closed: 0>\n",
      "cursor success <cursor object at 0x115a9d030; closed: 0>\n",
      "started processing warc file\n"
     ]
    },
    {
     "name": "stderr",
     "output_type": "stream",
     "text": [
      "İşlenen Kayıtlar: 0it [00:00, ?it/s]"
     ]
    },
    {
     "name": "stderr",
     "output_type": "stream",
     "text": [
      "İşlenen Kayıtlar: 497it [00:41,  5.05it/s]"
     ]
    },
    {
     "name": "stdout",
     "output_type": "stream",
     "text": [
      "inserting records to db 500\n"
     ]
    },
    {
     "name": "stderr",
     "output_type": "stream",
     "text": [
      "İşlenen Kayıtlar: 999it [01:22, 18.14it/s]"
     ]
    },
    {
     "name": "stdout",
     "output_type": "stream",
     "text": [
      "inserting records to db 500\n"
     ]
    },
    {
     "name": "stderr",
     "output_type": "stream",
     "text": [
      "İşlenen Kayıtlar: 1293it [01:47, 29.37it/s]"
     ]
    },
    {
     "name": "stdout",
     "output_type": "stream",
     "text": [
      "Hata oluştu: The markup you provided was rejected by the parser. Trying a different parser or a different encoding may help.\n",
      "\n",
      "Original exception(s) from parser:\n",
      " AssertionError: expected name token at '<![��P���a�9\\x02l~Q����' - URL: https://files.dainikshiksha.com/136301/conversions/najirpur-thumb.webp\n"
     ]
    },
    {
     "name": "stderr",
     "output_type": "stream",
     "text": [
      "İşlenen Kayıtlar: 1499it [02:03,  5.19it/s]"
     ]
    },
    {
     "name": "stdout",
     "output_type": "stream",
     "text": [
      "inserting records to db 500\n"
     ]
    },
    {
     "name": "stderr",
     "output_type": "stream",
     "text": [
      "İşlenen Kayıtlar: 1501it [02:05,  3.61it/s]"
     ]
    },
    {
     "name": "stdout",
     "output_type": "stream",
     "text": [
      "Hata oluştu: A string literal cannot contain NUL (0x00) characters. - URL: https://www.finanzen.net/nachricht/aktien/thyssenkrupp-aktie-kursbewegung-02-01-2025-11201173\n",
      "inserting records to db 501\n",
      "Hata oluştu: A string literal cannot contain NUL (0x00) characters. - URL: https://webcatalog.io/de/apps/tag/fleet-tracking-software?country=ms\n",
      "inserting records to db 502\n"
     ]
    },
    {
     "name": "stderr",
     "output_type": "stream",
     "text": [
      "İşlenen Kayıtlar: 1503it [02:07,  2.23it/s]"
     ]
    },
    {
     "name": "stdout",
     "output_type": "stream",
     "text": [
      "Hata oluştu: A string literal cannot contain NUL (0x00) characters. - URL: https://www.ensonhaber.com/bilgi/insanlarin-97si-bulamiyor-harflerin-arasinda-5-tanesi-saklaniyor\n",
      "inserting records to db 503\n"
     ]
    },
    {
     "name": "stderr",
     "output_type": "stream",
     "text": [
      "İşlenen Kayıtlar: 1504it [02:08,  1.80it/s]"
     ]
    },
    {
     "name": "stdout",
     "output_type": "stream",
     "text": [
      "Hata oluştu: A string literal cannot contain NUL (0x00) characters. - URL: http://www.samanyoluhaber.com/eski-istihbaratcisi-sabri-uzun-adli-kontrolle-serbest-birakildi-bassavcilik-itiraz-edecek-haberi/1472095/\n",
      "inserting records to db 504\n"
     ]
    },
    {
     "name": "stderr",
     "output_type": "stream",
     "text": [
      "İşlenen Kayıtlar: 1505it [02:09,  1.58it/s]"
     ]
    },
    {
     "name": "stdout",
     "output_type": "stream",
     "text": [
      "Hata oluştu: A string literal cannot contain NUL (0x00) characters. - URL: https://www.insider.gr/eidiseis/348833/panakriba-dora-gia-ton-tzo-mpainten-apo-xenoys-igetes-alla-akribotero-pige-stin\n",
      "inserting records to db 505\n"
     ]
    },
    {
     "name": "stderr",
     "output_type": "stream",
     "text": [
      "İşlenen Kayıtlar: 1506it [02:11,  1.37it/s]"
     ]
    },
    {
     "name": "stdout",
     "output_type": "stream",
     "text": [
      "Hata oluştu: A string literal cannot contain NUL (0x00) characters. - URL: https://www.finanznachrichten.de/nachrichten-2025-01/64204728-amundi-index-msci-emerging-markets-ucits-etf-dr-usd-d-net-asset-value-s-015.htm\n",
      "inserting records to db 506\n"
     ]
    },
    {
     "name": "stderr",
     "output_type": "stream",
     "text": [
      "İşlenen Kayıtlar: 1507it [02:12,  1.18it/s]"
     ]
    },
    {
     "name": "stdout",
     "output_type": "stream",
     "text": [
      "Hata oluştu: A string literal cannot contain NUL (0x00) characters. - URL: https://www.finanzen.net/nachricht/aktien/thyssenkrupp-aktie-kursbewegung-02-01-2025-11202068\n",
      "inserting records to db 507\n"
     ]
    },
    {
     "name": "stderr",
     "output_type": "stream",
     "text": [
      "İşlenen Kayıtlar: 1508it [02:13,  1.10it/s]"
     ]
    },
    {
     "name": "stdout",
     "output_type": "stream",
     "text": [
      "Hata oluştu: A string literal cannot contain NUL (0x00) characters. - URL: https://webcatalog.io/de/apps/tag/freight-management-software?country=ms\n",
      "inserting records to db 508\n"
     ]
    },
    {
     "name": "stderr",
     "output_type": "stream",
     "text": [
      "İşlenen Kayıtlar: 1509it [02:14,  1.04it/s]"
     ]
    },
    {
     "name": "stdout",
     "output_type": "stream",
     "text": [
      "Hata oluştu: A string literal cannot contain NUL (0x00) characters. - URL: https://www.ensonhaber.com/bilgi/o-sarj-aletleri-icin-kritik-uyari-hayati-risk-tasiyorlar\n",
      "inserting records to db 509\n"
     ]
    },
    {
     "name": "stderr",
     "output_type": "stream",
     "text": [
      "İşlenen Kayıtlar: 1510it [02:15,  1.02s/it]"
     ]
    },
    {
     "name": "stdout",
     "output_type": "stream",
     "text": [
      "Hata oluştu: A string literal cannot contain NUL (0x00) characters. - URL: http://www.samanyoluhaber.com/las-vegas-saldirgani-abd-ozel-kuvvetler-askeri-cikti-haberi/1472093/\n",
      "inserting records to db 510\n"
     ]
    },
    {
     "name": "stderr",
     "output_type": "stream",
     "text": [
      "İşlenen Kayıtlar: 1511it [02:17,  1.05s/it]"
     ]
    },
    {
     "name": "stdout",
     "output_type": "stream",
     "text": [
      "Hata oluştu: A string literal cannot contain NUL (0x00) characters. - URL: https://www.insider.gr/eidiseis/348844/thessaloniki-peripoy-6000-hristoygenniatika-dentra-ektimatai-pos-tha-anakyklothoyn\n",
      "inserting records to db 511\n"
     ]
    },
    {
     "name": "stderr",
     "output_type": "stream",
     "text": [
      "İşlenen Kayıtlar: 1512it [02:18,  1.07s/it]"
     ]
    },
    {
     "name": "stdout",
     "output_type": "stream",
     "text": [
      "Hata oluştu: A string literal cannot contain NUL (0x00) characters. - URL: https://www.finanznachrichten.de/nachrichten-2025-01/64204784-zerez-eintrag-ab-1-februar-fuer-alle-photovoltaik-anlagen-verbindlich-032.htm\n",
      "inserting records to db 512\n"
     ]
    },
    {
     "name": "stderr",
     "output_type": "stream",
     "text": [
      "İşlenen Kayıtlar: 1513it [02:19,  1.07s/it]"
     ]
    },
    {
     "name": "stdout",
     "output_type": "stream",
     "text": [
      "Hata oluştu: A string literal cannot contain NUL (0x00) characters. - URL: https://webcatalog.io/en/apps/tag/fleet-maintenance-software?country=ms\n",
      "inserting records to db 513\n"
     ]
    },
    {
     "name": "stderr",
     "output_type": "stream",
     "text": [
      "İşlenen Kayıtlar: 1514it [02:20,  1.12s/it]"
     ]
    },
    {
     "name": "stdout",
     "output_type": "stream",
     "text": [
      "Hata oluştu: A string literal cannot contain NUL (0x00) characters. - URL: https://www.finanzen.net/nachricht/aktien/thyssenkrupp-aktie-kursbewegung-03-01-2025-11210144\n",
      "inserting records to db 514\n"
     ]
    },
    {
     "name": "stderr",
     "output_type": "stream",
     "text": [
      "İşlenen Kayıtlar: 1515it [02:21,  1.09s/it]"
     ]
    },
    {
     "name": "stdout",
     "output_type": "stream",
     "text": [
      "Hata oluştu: A string literal cannot contain NUL (0x00) characters. - URL: https://www.ensonhaber.com/bilgi/zamli-memur-maaslari-2025-ogretmen-muhendis-doktor-maaslari-ne-kadar-oldu\n",
      "inserting records to db 515\n"
     ]
    },
    {
     "name": "stderr",
     "output_type": "stream",
     "text": [
      "İşlenen Kayıtlar: 1516it [02:22,  1.10s/it]"
     ]
    },
    {
     "name": "stdout",
     "output_type": "stream",
     "text": [
      "Hata oluştu: A string literal cannot contain NUL (0x00) characters. - URL: http://www.samanyoluhaber.com/ocalanla-gorusen-dem-parti-bahceliden-neler-istedi-rudaw-yazdi-haberi/1472094/\n",
      "inserting records to db 516\n"
     ]
    },
    {
     "name": "stderr",
     "output_type": "stream",
     "text": [
      "İşlenen Kayıtlar: 1517it [02:24,  1.27s/it]"
     ]
    },
    {
     "name": "stdout",
     "output_type": "stream",
     "text": [
      "Hata oluştu: A string literal cannot contain NUL (0x00) characters. - URL: https://www.insider.gr/epiheiriseis/348827/nyt-o-mpainten-mplokarei-tin-exagora-tis-us-steel-apo-tin-iaponiki-nippon\n",
      "inserting records to db 517\n"
     ]
    },
    {
     "name": "stderr",
     "output_type": "stream",
     "text": [
      "İşlenen Kayıtlar: 1518it [02:25,  1.25s/it]"
     ]
    },
    {
     "name": "stdout",
     "output_type": "stream",
     "text": [
      "Hata oluştu: A string literal cannot contain NUL (0x00) characters. - URL: https://www.finanznachrichten.de/nachrichten-2025-01/64204800-arbeitslosigkeit-legt-jahreszeitlich-bedingt-zu-003.htm\n",
      "inserting records to db 518\n"
     ]
    },
    {
     "name": "stderr",
     "output_type": "stream",
     "text": [
      "İşlenen Kayıtlar: 1519it [02:26,  1.22s/it]"
     ]
    },
    {
     "name": "stdout",
     "output_type": "stream",
     "text": [
      "Hata oluştu: A string literal cannot contain NUL (0x00) characters. - URL: https://webcatalog.io/en/apps/tag/fleet-management-software?country=ms\n",
      "inserting records to db 519\n"
     ]
    },
    {
     "name": "stderr",
     "output_type": "stream",
     "text": [
      "İşlenen Kayıtlar: 1520it [02:27,  1.18s/it]"
     ]
    },
    {
     "name": "stdout",
     "output_type": "stream",
     "text": [
      "Hata oluştu: A string literal cannot contain NUL (0x00) characters. - URL: https://www.ensonhaber.com/dunya/almanya-disisleri-bakani-baerbock-sama-celik-yelekle-geldi\n",
      "inserting records to db 520\n"
     ]
    },
    {
     "name": "stderr",
     "output_type": "stream",
     "text": [
      "İşlenen Kayıtlar: 1521it [02:29,  1.24s/it]"
     ]
    },
    {
     "name": "stdout",
     "output_type": "stream",
     "text": [
      "Hata oluştu: A string literal cannot contain NUL (0x00) characters. - URL: https://www.finanzen.net/nachricht/aktien/tilray-aktie-kursbewegung-02-01-2025-11202144\n",
      "inserting records to db 521\n"
     ]
    },
    {
     "name": "stderr",
     "output_type": "stream",
     "text": [
      "İşlenen Kayıtlar: 1522it [02:30,  1.20s/it]"
     ]
    },
    {
     "name": "stdout",
     "output_type": "stream",
     "text": [
      "Hata oluştu: A string literal cannot contain NUL (0x00) characters. - URL: http://www.samanyoluhaber.com/tutuklama-emri-guney-koreyi-karistirdi-baskanlik-guvenlik-servisiyle-polis-karsi-karsiya-haberi/1472091/\n",
      "inserting records to db 522\n"
     ]
    },
    {
     "name": "stderr",
     "output_type": "stream",
     "text": [
      "İşlenen Kayıtlar: 1523it [02:31,  1.17s/it]"
     ]
    },
    {
     "name": "stdout",
     "output_type": "stream",
     "text": [
      "Hata oluştu: A string literal cannot contain NUL (0x00) characters. - URL: https://www.insider.gr/epiheiriseis/348835/terna-energeiaki-i-masdar-apektise-289960-metohes-axias-58-ekat-eyro\n",
      "inserting records to db 523\n"
     ]
    },
    {
     "name": "stderr",
     "output_type": "stream",
     "text": [
      "İşlenen Kayıtlar: 1524it [02:32,  1.19s/it]"
     ]
    },
    {
     "name": "stdout",
     "output_type": "stream",
     "text": [
      "Hata oluştu: A string literal cannot contain NUL (0x00) characters. - URL: https://www.finanznachrichten.de/nachrichten-2025-01/64204801-eil-im-dezember-170-000-mehr-arbeitslose-als-vor-einem-jahr-003.htm\n",
      "inserting records to db 524\n"
     ]
    },
    {
     "name": "stderr",
     "output_type": "stream",
     "text": [
      "İşlenen Kayıtlar: 1525it [02:33,  1.23s/it]"
     ]
    },
    {
     "name": "stdout",
     "output_type": "stream",
     "text": [
      "Hata oluştu: A string literal cannot contain NUL (0x00) characters. - URL: https://webcatalog.io/en/apps/tag/fleet-tracking-software?country=ms\n",
      "inserting records to db 525\n"
     ]
    },
    {
     "name": "stderr",
     "output_type": "stream",
     "text": [
      "İşlenen Kayıtlar: 1526it [02:35,  1.21s/it]"
     ]
    },
    {
     "name": "stdout",
     "output_type": "stream",
     "text": [
      "Hata oluştu: A string literal cannot contain NUL (0x00) characters. - URL: https://www.ensonhaber.com/dunya/guney-afrikada-ucakta-daha-fazla-alkol-verilmeyen-yolcu-olay-cikardi\n",
      "inserting records to db 526\n"
     ]
    },
    {
     "name": "stderr",
     "output_type": "stream",
     "text": [
      "İşlenen Kayıtlar: 1527it [02:36,  1.18s/it]"
     ]
    },
    {
     "name": "stdout",
     "output_type": "stream",
     "text": [
      "Hata oluştu: A string literal cannot contain NUL (0x00) characters. - URL: https://www.insider.gr/epiheiriseis/348841/i-gek-terna-anakoinonei-tin-apohorisi-toy-k-gagik-apkarian\n",
      "inserting records to db 527\n"
     ]
    },
    {
     "name": "stderr",
     "output_type": "stream",
     "text": [
      "İşlenen Kayıtlar: 1528it [02:37,  1.16s/it]"
     ]
    },
    {
     "name": "stdout",
     "output_type": "stream",
     "text": [
      "Hata oluştu: A string literal cannot contain NUL (0x00) characters. - URL: https://www.finanznachrichten.de/nachrichten-2025-01/64204802-deutschland-nimmt-an-trumps-amtseinfuehrung-teil-003.htm\n",
      "inserting records to db 528\n"
     ]
    },
    {
     "name": "stderr",
     "output_type": "stream",
     "text": [
      "İşlenen Kayıtlar: 1529it [02:38,  1.16s/it]"
     ]
    },
    {
     "name": "stdout",
     "output_type": "stream",
     "text": [
      "Hata oluştu: A string literal cannot contain NUL (0x00) characters. - URL: https://webcatalog.io/en/apps/tag/freight-management-software?country=ms\n",
      "inserting records to db 529\n"
     ]
    },
    {
     "name": "stderr",
     "output_type": "stream",
     "text": [
      "İşlenen Kayıtlar: 1530it [02:39,  1.16s/it]"
     ]
    },
    {
     "name": "stdout",
     "output_type": "stream",
     "text": [
      "Hata oluştu: A string literal cannot contain NUL (0x00) characters. - URL: https://www.ensonhaber.com/dunya/samin-ara-sokaklarinin-altindaki-tunelden-dikkat-ceken-goruntuler\n",
      "inserting records to db 530\n"
     ]
    },
    {
     "name": "stderr",
     "output_type": "stream",
     "text": [
      "İşlenen Kayıtlar: 1531it [02:40,  1.18s/it]"
     ]
    },
    {
     "name": "stdout",
     "output_type": "stream",
     "text": [
      "Hata oluştu: A string literal cannot contain NUL (0x00) characters. - URL: https://www.finanzen.net/nachricht/aktien/tuerkei-hohe-inflation-schwaecht-sich-sechsten-monat-in-folge-ab-14126051\n",
      "inserting records to db 531\n"
     ]
    },
    {
     "name": "stderr",
     "output_type": "stream",
     "text": [
      "İşlenen Kayıtlar: 1532it [02:42,  1.19s/it]"
     ]
    },
    {
     "name": "stdout",
     "output_type": "stream",
     "text": [
      "Hata oluştu: A string literal cannot contain NUL (0x00) characters. - URL: https://www.insider.gr/epiheiriseis/348847/tayros-gia-ti-theon-i-edison-timi-stohos-sta-2120-eyro\n",
      "inserting records to db 532\n"
     ]
    },
    {
     "name": "stderr",
     "output_type": "stream",
     "text": [
      "İşlenen Kayıtlar: 1533it [02:43,  1.17s/it]"
     ]
    },
    {
     "name": "stdout",
     "output_type": "stream",
     "text": [
      "Hata oluştu: A string literal cannot contain NUL (0x00) characters. - URL: https://www.finanznachrichten.de/nachrichten-2025-01/64204803-suedkorea-soldaten-verhindern-verhaftung-von-yoon-003.htm\n",
      "inserting records to db 533\n"
     ]
    },
    {
     "name": "stderr",
     "output_type": "stream",
     "text": [
      "İşlenen Kayıtlar: 1534it [02:44,  1.15s/it]"
     ]
    },
    {
     "name": "stdout",
     "output_type": "stream",
     "text": [
      "Hata oluştu: A string literal cannot contain NUL (0x00) characters. - URL: https://webcatalog.io/es/apps/tag/fleet-maintenance-software?country=ms\n",
      "inserting records to db 534\n"
     ]
    },
    {
     "name": "stderr",
     "output_type": "stream",
     "text": [
      "İşlenen Kayıtlar: 1535it [02:45,  1.15s/it]"
     ]
    },
    {
     "name": "stdout",
     "output_type": "stream",
     "text": [
      "Hata oluştu: A string literal cannot contain NUL (0x00) characters. - URL: https://www.ensonhaber.com/egitim-haberleri/ogrencilere-ulasim-destegi-ust-limiti-1250-liradan-1900-liraya-yukseltildi\n",
      "inserting records to db 535\n"
     ]
    },
    {
     "name": "stderr",
     "output_type": "stream",
     "text": [
      "İşlenen Kayıtlar: 1536it [02:46,  1.18s/it]"
     ]
    },
    {
     "name": "stdout",
     "output_type": "stream",
     "text": [
      "Hata oluştu: A string literal cannot contain NUL (0x00) characters. - URL: https://www.finanzen.net/nachricht/aktien/tui-aktie-kursbewegung-02-01-2025-12205846\n",
      "inserting records to db 536\n"
     ]
    },
    {
     "name": "stderr",
     "output_type": "stream",
     "text": [
      "İşlenen Kayıtlar: 1537it [02:47,  1.17s/it]"
     ]
    },
    {
     "name": "stdout",
     "output_type": "stream",
     "text": [
      "Hata oluştu: A string literal cannot contain NUL (0x00) characters. - URL: https://www.insider.gr/oikonomia/348092/me-blemma-stis-anadyomenes-agores-poy-stoheyei-i-oikonomiki-diplomatia-2025\n",
      "inserting records to db 537\n"
     ]
    },
    {
     "name": "stderr",
     "output_type": "stream",
     "text": [
      "İşlenen Kayıtlar: 1538it [02:48,  1.18s/it]"
     ]
    },
    {
     "name": "stdout",
     "output_type": "stream",
     "text": [
      "Hata oluştu: A string literal cannot contain NUL (0x00) characters. - URL: https://www.finanznachrichten.de/nachrichten-2025-01/64204804-baerbock-reist-ueberraschend-nach-syrien-003.htm\n",
      "inserting records to db 538\n"
     ]
    },
    {
     "name": "stderr",
     "output_type": "stream",
     "text": [
      "İşlenen Kayıtlar: 1539it [02:50,  1.18s/it]"
     ]
    },
    {
     "name": "stdout",
     "output_type": "stream",
     "text": [
      "Hata oluştu: A string literal cannot contain NUL (0x00) characters. - URL: https://webcatalog.io/es/apps/tag/fleet-management-software?country=ms\n",
      "inserting records to db 539\n"
     ]
    },
    {
     "name": "stderr",
     "output_type": "stream",
     "text": [
      "İşlenen Kayıtlar: 1540it [02:51,  1.17s/it]"
     ]
    },
    {
     "name": "stdout",
     "output_type": "stream",
     "text": [
      "Hata oluştu: A string literal cannot contain NUL (0x00) characters. - URL: https://www.ensonhaber.com/ekonomi/2025-yili-sgk-prim-ve-odenek-tutarlari\n",
      "inserting records to db 540\n"
     ]
    },
    {
     "name": "stderr",
     "output_type": "stream",
     "text": [
      "İşlenen Kayıtlar: 1541it [02:52,  1.31s/it]"
     ]
    },
    {
     "name": "stdout",
     "output_type": "stream",
     "text": [
      "Hata oluştu: A string literal cannot contain NUL (0x00) characters. - URL: https://www.finanzen.net/nachricht/aktien/tui-aktie-kursbewegung-02-01-2025-12209256\n",
      "inserting records to db 541\n"
     ]
    },
    {
     "name": "stderr",
     "output_type": "stream",
     "text": [
      "İşlenen Kayıtlar: 1542it [02:54,  1.30s/it]"
     ]
    },
    {
     "name": "stdout",
     "output_type": "stream",
     "text": [
      "Hata oluştu: A string literal cannot contain NUL (0x00) characters. - URL: https://www.insider.gr/oikonomia/348832/i-oykrania-diekopse-tis-roes-rosikoy-aerioy-pros-tin-eyropi-poios-zimionetai\n",
      "inserting records to db 542\n"
     ]
    },
    {
     "name": "stderr",
     "output_type": "stream",
     "text": [
      "İşlenen Kayıtlar: 1543it [02:55,  1.31s/it]"
     ]
    },
    {
     "name": "stdout",
     "output_type": "stream",
     "text": [
      "Hata oluştu: A string literal cannot contain NUL (0x00) characters. - URL: https://www.finanznachrichten.de/nachrichten-2025-01/64204806-eqs-news-p-p-group-frequenz-rekordergebnis-fuer-erlebniscenter-flair-fuerth-im-weihnachtsgeschaeft-ebenfalls-spitzenwert-bei-wunschbaum-aktion-zuguns-022.htm\n",
      "inserting records to db 543\n"
     ]
    },
    {
     "name": "stderr",
     "output_type": "stream",
     "text": [
      "İşlenen Kayıtlar: 1544it [02:56,  1.28s/it]"
     ]
    },
    {
     "name": "stdout",
     "output_type": "stream",
     "text": [
      "Hata oluştu: A string literal cannot contain NUL (0x00) characters. - URL: https://webcatalog.io/es/apps/tag/fleet-tracking-software?country=ms\n",
      "inserting records to db 544\n"
     ]
    },
    {
     "name": "stderr",
     "output_type": "stream",
     "text": [
      "İşlenen Kayıtlar: 1545it [02:57,  1.24s/it]"
     ]
    },
    {
     "name": "stdout",
     "output_type": "stream",
     "text": [
      "Hata oluştu: A string literal cannot contain NUL (0x00) characters. - URL: https://www.ensonhaber.com/ekonomi/aralik-2024te-fiyati-en-fazla-artan-ve-dusen-urunler-belli-oldu\n",
      "inserting records to db 545\n"
     ]
    },
    {
     "name": "stderr",
     "output_type": "stream",
     "text": [
      "İşlenen Kayıtlar: 1546it [02:59,  1.24s/it]"
     ]
    },
    {
     "name": "stdout",
     "output_type": "stream",
     "text": [
      "Hata oluştu: A string literal cannot contain NUL (0x00) characters. - URL: https://www.finanzen.net/nachricht/aktien/tui-aktie-kursbewegung-03-01-2025-12208617\n",
      "inserting records to db 546\n"
     ]
    },
    {
     "name": "stderr",
     "output_type": "stream",
     "text": [
      "İşlenen Kayıtlar: 1547it [03:00,  1.20s/it]"
     ]
    },
    {
     "name": "stdout",
     "output_type": "stream",
     "text": [
      "Hata oluştu: A string literal cannot contain NUL (0x00) characters. - URL: https://www.insider.gr/oikonomia/348836/toyrkia-o-plithorismos-frenare-perissotero-toy-anamenomenoy-ton-dekembrio\n",
      "inserting records to db 547\n"
     ]
    },
    {
     "name": "stderr",
     "output_type": "stream",
     "text": [
      "İşlenen Kayıtlar: 1548it [03:01,  1.17s/it]"
     ]
    },
    {
     "name": "stdout",
     "output_type": "stream",
     "text": [
      "Hata oluştu: A string literal cannot contain NUL (0x00) characters. - URL: https://www.finanznachrichten.de/nachrichten-2025-01/64204815-deutschland-zahl-der-arbeitslosen-steigt-im-dezember-016.htm\n",
      "inserting records to db 548\n"
     ]
    },
    {
     "name": "stderr",
     "output_type": "stream",
     "text": [
      "İşlenen Kayıtlar: 1549it [03:02,  1.16s/it]"
     ]
    },
    {
     "name": "stdout",
     "output_type": "stream",
     "text": [
      "Hata oluştu: A string literal cannot contain NUL (0x00) characters. - URL: https://www.ensonhaber.com/ekonomi/mehmet-simsekten-2024-yili-muhasebesi\n",
      "inserting records to db 549\n"
     ]
    },
    {
     "name": "stderr",
     "output_type": "stream",
     "text": [
      "İşlenen Kayıtlar: 1550it [03:03,  1.19s/it]"
     ]
    },
    {
     "name": "stdout",
     "output_type": "stream",
     "text": [
      "Hata oluştu: A string literal cannot contain NUL (0x00) characters. - URL: https://dunya.com.pk/index.php/city/lahore/2025-01-03/2456098\n",
      "inserting records to db 550\n"
     ]
    },
    {
     "name": "stderr",
     "output_type": "stream",
     "text": [
      "İşlenen Kayıtlar: 1551it [03:05,  1.22s/it]"
     ]
    },
    {
     "name": "stdout",
     "output_type": "stream",
     "text": [
      "Hata oluştu: A string literal cannot contain NUL (0x00) characters. - URL: https://www.star.com.tr/guncel/20-yildir-kayipti-nezaket-uyur-olayi-cozuldu-olduruldugu-ortaya-cikti-haber-1915975/\n",
      "inserting records to db 551\n"
     ]
    },
    {
     "name": "stderr",
     "output_type": "stream",
     "text": [
      "İşlenen Kayıtlar: 1552it [03:06,  1.37s/it]"
     ]
    },
    {
     "name": "stdout",
     "output_type": "stream",
     "text": [
      "Hata oluştu: A string literal cannot contain NUL (0x00) characters. - URL: https://www.finanzen.net/nachricht/aktien/uber-aktie-kursbewegung-02-01-2025-11202141\n",
      "inserting records to db 552\n"
     ]
    },
    {
     "name": "stderr",
     "output_type": "stream",
     "text": [
      "İşlenen Kayıtlar: 1553it [03:08,  1.37s/it]"
     ]
    },
    {
     "name": "stdout",
     "output_type": "stream",
     "text": [
      "Hata oluştu: A string literal cannot contain NUL (0x00) characters. - URL: https://webcatalog.io/es/apps/tag/freight-management-software?country=ms\n",
      "inserting records to db 553\n"
     ]
    },
    {
     "name": "stderr",
     "output_type": "stream",
     "text": [
      "İşlenen Kayıtlar: 1554it [03:09,  1.36s/it]"
     ]
    },
    {
     "name": "stdout",
     "output_type": "stream",
     "text": [
      "Hata oluştu: A string literal cannot contain NUL (0x00) characters. - URL: https://www.insider.gr/oikonomia/348837/allazo-systima-thermansis-kai-thermosifona-sti-dimosiotita-o-odigos-toy\n",
      "inserting records to db 554\n"
     ]
    },
    {
     "name": "stderr",
     "output_type": "stream",
     "text": [
      "İşlenen Kayıtlar: 1555it [03:10,  1.33s/it]"
     ]
    },
    {
     "name": "stdout",
     "output_type": "stream",
     "text": [
      "Hata oluştu: A string literal cannot contain NUL (0x00) characters. - URL: https://www.globenewswire.com/news-release/2025/01/02/3003360/0/sv/Virtune-AB-Publ-Virtune-har-genomf%C3%B6rt-den-m%C3%A5natliga-rebalanseringen-f%C3%B6r-december-2024-av-Virtune-Crypto-Altcoin-Index-ETP.html\n",
      "inserting records to db 555\n"
     ]
    },
    {
     "name": "stderr",
     "output_type": "stream",
     "text": [
      "İşlenen Kayıtlar: 1556it [03:11,  1.27s/it]"
     ]
    },
    {
     "name": "stdout",
     "output_type": "stream",
     "text": [
      "Hata oluştu: A string literal cannot contain NUL (0x00) characters. - URL: https://www.finanznachrichten.de/nachrichten-2025-01/64204816-schweizer-einkaufsmanagerindizes-im-dezember-uneinheitlich-095.htm\n",
      "inserting records to db 556\n"
     ]
    },
    {
     "name": "stderr",
     "output_type": "stream",
     "text": [
      "İşlenen Kayıtlar: 1557it [03:13,  1.24s/it]"
     ]
    },
    {
     "name": "stdout",
     "output_type": "stream",
     "text": [
      "Hata oluştu: A string literal cannot contain NUL (0x00) characters. - URL: https://www.ensonhaber.com/gundem/antalya-2024-yilinda-17-milyon-ziyaretci-ile-rekor-kirdi\n",
      "inserting records to db 557\n"
     ]
    },
    {
     "name": "stderr",
     "output_type": "stream",
     "text": [
      "İşlenen Kayıtlar: 1558it [03:14,  1.33s/it]"
     ]
    },
    {
     "name": "stdout",
     "output_type": "stream",
     "text": [
      "Hata oluştu: A string literal cannot contain NUL (0x00) characters. - URL: https://dunya.com.pk/index.php/city/lahore/2025-01-03/2456099\n",
      "inserting records to db 558\n"
     ]
    },
    {
     "name": "stderr",
     "output_type": "stream",
     "text": [
      "İşlenen Kayıtlar: 1559it [03:15,  1.28s/it]"
     ]
    },
    {
     "name": "stdout",
     "output_type": "stream",
     "text": [
      "Hata oluştu: A string literal cannot contain NUL (0x00) characters. - URL: https://www.star.com.tr/guncel/istanbul-bogazinda-gemi-trafigi-gecici-olarak-cift-yonde-askiya-alindi-haber-1915955/\n",
      "inserting records to db 559\n"
     ]
    },
    {
     "name": "stderr",
     "output_type": "stream",
     "text": [
      "İşlenen Kayıtlar: 1560it [03:17,  1.27s/it]"
     ]
    },
    {
     "name": "stdout",
     "output_type": "stream",
     "text": [
      "Hata oluştu: A string literal cannot contain NUL (0x00) characters. - URL: https://www.finanzen.net/nachricht/aktien/ueberblick-am-abend-konjunktur-zentralbanken-politik-14125398\n",
      "inserting records to db 560\n"
     ]
    },
    {
     "name": "stderr",
     "output_type": "stream",
     "text": [
      "İşlenen Kayıtlar: 1561it [03:18,  1.24s/it]"
     ]
    },
    {
     "name": "stdout",
     "output_type": "stream",
     "text": [
      "Hata oluştu: A string literal cannot contain NUL (0x00) characters. - URL: https://webcatalog.io/fr/apps/tag/fleet-maintenance-software?country=ms\n",
      "inserting records to db 561\n"
     ]
    },
    {
     "name": "stderr",
     "output_type": "stream",
     "text": [
      "İşlenen Kayıtlar: 1562it [03:19,  1.24s/it]"
     ]
    },
    {
     "name": "stdout",
     "output_type": "stream",
     "text": [
      "Hata oluştu: A string literal cannot contain NUL (0x00) characters. - URL: https://www.insider.gr/oikonomia/348842/neoi-agrotes-2021-allages-stis-desmeyseis-poy-aforoyn-ton-kyklo-ergasion\n",
      "inserting records to db 562\n"
     ]
    },
    {
     "name": "stderr",
     "output_type": "stream",
     "text": [
      "İşlenen Kayıtlar: 1563it [03:20,  1.20s/it]"
     ]
    },
    {
     "name": "stdout",
     "output_type": "stream",
     "text": [
      "Hata oluştu: A string literal cannot contain NUL (0x00) characters. - URL: https://www.globenewswire.com/news-release/2025/01/03/3003871/0/sv/Virtune-AB-Publ-Virtune-har-genomf%C3%B6rt-den-m%C3%A5natliga-rebalanseringen-f%C3%B6r-december-2024-av-Virtune-Crypto-Top-10-Index-ETP-Nordens-f%C3%B6rsta-kryptoindex-ETP.html\n",
      "inserting records to db 563\n"
     ]
    },
    {
     "name": "stderr",
     "output_type": "stream",
     "text": [
      "İşlenen Kayıtlar: 1564it [03:21,  1.18s/it]"
     ]
    },
    {
     "name": "stdout",
     "output_type": "stream",
     "text": [
      "Hata oluştu: A string literal cannot contain NUL (0x00) characters. - URL: https://www.finanznachrichten.de/nachrichten-2025-01/64204817-zahl-der-firmenkonkurse-steigt-im-2024-auf-hoechststand-095.htm\n",
      "inserting records to db 564\n"
     ]
    },
    {
     "name": "stderr",
     "output_type": "stream",
     "text": [
      "İşlenen Kayıtlar: 1565it [03:22,  1.16s/it]"
     ]
    },
    {
     "name": "stdout",
     "output_type": "stream",
     "text": [
      "Hata oluştu: A string literal cannot contain NUL (0x00) characters. - URL: https://www.ensonhaber.com/gundem/bakan-yumakli-duyurdu-istilaci-balon-baligi-avlayan-balikcilara-2-yil-daha-destekleme\n",
      "inserting records to db 565\n"
     ]
    },
    {
     "name": "stderr",
     "output_type": "stream",
     "text": [
      "İşlenen Kayıtlar: 1566it [03:23,  1.16s/it]"
     ]
    },
    {
     "name": "stdout",
     "output_type": "stream",
     "text": [
      "Hata oluştu: A string literal cannot contain NUL (0x00) characters. - URL: https://webcatalog.io/fr/apps/tag/fleet-management-software?country=ms\n",
      "inserting records to db 566\n"
     ]
    },
    {
     "name": "stderr",
     "output_type": "stream",
     "text": [
      "İşlenen Kayıtlar: 1567it [03:25,  1.19s/it]"
     ]
    },
    {
     "name": "stdout",
     "output_type": "stream",
     "text": [
      "Hata oluştu: A string literal cannot contain NUL (0x00) characters. - URL: https://www.star.com.tr/guncel/kayaliktan-dustu-dedigi-karisini-iterek-oldurmustu-cezasi-belli-oldu-haber-1915974/\n",
      "inserting records to db 567\n"
     ]
    },
    {
     "name": "stderr",
     "output_type": "stream",
     "text": [
      "İşlenen Kayıtlar: 1568it [03:26,  1.30s/it]"
     ]
    },
    {
     "name": "stdout",
     "output_type": "stream",
     "text": [
      "Hata oluştu: A string literal cannot contain NUL (0x00) characters. - URL: https://www.finanzen.net/nachricht/aktien/ueberblick-am-mittag-konjunktur-zentralbanken-politik-14124449\n",
      "inserting records to db 568\n"
     ]
    },
    {
     "name": "stderr",
     "output_type": "stream",
     "text": [
      "İşlenen Kayıtlar: 1569it [03:28,  1.36s/it]"
     ]
    },
    {
     "name": "stdout",
     "output_type": "stream",
     "text": [
      "Hata oluştu: A string literal cannot contain NUL (0x00) characters. - URL: https://www.zdf.de/nachrichten/heute-sendungen/aussenministerin-annalena-baerbock-besuch-syrien-video-100.html\n",
      "inserting records to db 569\n"
     ]
    },
    {
     "name": "stderr",
     "output_type": "stream",
     "text": [
      "İşlenen Kayıtlar: 1570it [03:29,  1.34s/it]"
     ]
    },
    {
     "name": "stdout",
     "output_type": "stream",
     "text": [
      "Hata oluştu: A string literal cannot contain NUL (0x00) characters. - URL: https://dunya.com.pk/index.php/city/lahore/2025-01-03/2456100\n",
      "inserting records to db 570\n"
     ]
    },
    {
     "name": "stderr",
     "output_type": "stream",
     "text": [
      "İşlenen Kayıtlar: 1571it [03:30,  1.33s/it]"
     ]
    },
    {
     "name": "stdout",
     "output_type": "stream",
     "text": [
      "Hata oluştu: A string literal cannot contain NUL (0x00) characters. - URL: https://www.insider.gr/oikonomia/348848/sto-96-ypohorise-i-anergia-ton-noembrio\n",
      "inserting records to db 571\n"
     ]
    },
    {
     "name": "stderr",
     "output_type": "stream",
     "text": [
      "İşlenen Kayıtlar: 1572it [03:32,  1.33s/it]"
     ]
    },
    {
     "name": "stdout",
     "output_type": "stream",
     "text": [
      "Hata oluştu: A string literal cannot contain NUL (0x00) characters. - URL: https://www.finanznachrichten.de/nachrichten-2025-01/64204818-ch-eroeffnung-smi-startet-freundlich-ins-boersenjahr-2025-095.htm\n",
      "inserting records to db 572\n"
     ]
    },
    {
     "name": "stderr",
     "output_type": "stream",
     "text": [
      "İşlenen Kayıtlar: 1573it [03:33,  1.26s/it]"
     ]
    },
    {
     "name": "stdout",
     "output_type": "stream",
     "text": [
      "Hata oluştu: A string literal cannot contain NUL (0x00) characters. - URL: https://www.ensonhaber.com/gundem/ferdi-tayfurun-cenazeci-istanbula-getirildi\n",
      "inserting records to db 573\n"
     ]
    },
    {
     "name": "stderr",
     "output_type": "stream",
     "text": [
      "İşlenen Kayıtlar: 1574it [03:34,  1.23s/it]"
     ]
    },
    {
     "name": "stdout",
     "output_type": "stream",
     "text": [
      "Hata oluştu: A string literal cannot contain NUL (0x00) characters. - URL: https://webcatalog.io/fr/apps/tag/fleet-tracking-software?country=ms\n",
      "inserting records to db 574\n"
     ]
    },
    {
     "name": "stderr",
     "output_type": "stream",
     "text": [
      "İşlenen Kayıtlar: 1575it [03:35,  1.19s/it]"
     ]
    },
    {
     "name": "stdout",
     "output_type": "stream",
     "text": [
      "Hata oluştu: A string literal cannot contain NUL (0x00) characters. - URL: https://www.star.com.tr/guncel/msb-acikladi-anitkabire-rekor-ziyaret-haber-1915969/\n",
      "inserting records to db 575\n"
     ]
    },
    {
     "name": "stderr",
     "output_type": "stream",
     "text": [
      "İşlenen Kayıtlar: 1576it [03:36,  1.23s/it]"
     ]
    },
    {
     "name": "stdout",
     "output_type": "stream",
     "text": [
      "Hata oluştu: A string literal cannot contain NUL (0x00) characters. - URL: https://www.finanzen.net/nachricht/aktien/ueberblick-am-morgen-konjunktur-zentralbanken-politik-14126064\n",
      "inserting records to db 576\n"
     ]
    },
    {
     "name": "stderr",
     "output_type": "stream",
     "text": [
      "İşlenen Kayıtlar: 1577it [03:38,  1.31s/it]"
     ]
    },
    {
     "name": "stdout",
     "output_type": "stream",
     "text": [
      "Hata oluştu: A string literal cannot contain NUL (0x00) characters. - URL: https://www.zdf.de/nachrichten/heute-sendungen/berlin-explosion-verletzte-polizisten-video-100.html\n",
      "inserting records to db 577\n"
     ]
    },
    {
     "name": "stderr",
     "output_type": "stream",
     "text": [
      "İşlenen Kayıtlar: 1578it [03:39,  1.31s/it]"
     ]
    },
    {
     "name": "stdout",
     "output_type": "stream",
     "text": [
      "Hata oluştu: A string literal cannot contain NUL (0x00) characters. - URL: https://www.insider.gr/politiki/348846/sti-damasko-oi-ypex-gallias-kai-germanias-gia-na-synantithoyn-me-neo-igeti-tis\n",
      "inserting records to db 578\n"
     ]
    },
    {
     "name": "stderr",
     "output_type": "stream",
     "text": [
      "İşlenen Kayıtlar: 1579it [03:41,  1.32s/it]"
     ]
    },
    {
     "name": "stdout",
     "output_type": "stream",
     "text": [
      "Hata oluştu: A string literal cannot contain NUL (0x00) characters. - URL: https://dunya.com.pk/index.php/city/lahore/2025-01-03/2456101\n",
      "inserting records to db 579\n"
     ]
    },
    {
     "name": "stderr",
     "output_type": "stream",
     "text": [
      "İşlenen Kayıtlar: 1580it [03:42,  1.33s/it]"
     ]
    },
    {
     "name": "stdout",
     "output_type": "stream",
     "text": [
      "Hata oluştu: A string literal cannot contain NUL (0x00) characters. - URL: https://www.finanznachrichten.de/nachrichten-2025-01/64204829-eqs-afr-yoc-ag-vorabbekanntmachung-ueber-die-veroeffentlichung-von-finanzberichten-gemaess-114-115-117-wphg-022.htm\n",
      "inserting records to db 580\n"
     ]
    },
    {
     "name": "stderr",
     "output_type": "stream",
     "text": [
      "İşlenen Kayıtlar: 1581it [03:43,  1.32s/it]"
     ]
    },
    {
     "name": "stdout",
     "output_type": "stream",
     "text": [
      "Hata oluştu: A string literal cannot contain NUL (0x00) characters. - URL: https://www.ensonhaber.com/gundem/maliyet-olarak-cin-otoyoluyla-karsilastirilan-istanbul-izmir-otoyolu-iddialarinin-asli\n",
      "inserting records to db 581\n"
     ]
    },
    {
     "name": "stderr",
     "output_type": "stream",
     "text": [
      "İşlenen Kayıtlar: 1582it [03:44,  1.27s/it]"
     ]
    },
    {
     "name": "stdout",
     "output_type": "stream",
     "text": [
      "Hata oluştu: A string literal cannot contain NUL (0x00) characters. - URL: https://webcatalog.io/fr/apps/tag/freight-management-software?country=ms\n",
      "inserting records to db 582\n"
     ]
    },
    {
     "name": "stderr",
     "output_type": "stream",
     "text": [
      "İşlenen Kayıtlar: 1583it [03:45,  1.24s/it]"
     ]
    },
    {
     "name": "stdout",
     "output_type": "stream",
     "text": [
      "Hata oluştu: A string literal cannot contain NUL (0x00) characters. - URL: https://www.star.com.tr/guncel/otoyol-ve-koprulerden-gecis-yapan-arac-sayisi-belli-oldu-haber-1915960/\n",
      "inserting records to db 583\n"
     ]
    },
    {
     "name": "stderr",
     "output_type": "stream",
     "text": [
      "İşlenen Kayıtlar: 1584it [03:47,  1.27s/it]"
     ]
    },
    {
     "name": "stdout",
     "output_type": "stream",
     "text": [
      "Hata oluştu: A string literal cannot contain NUL (0x00) characters. - URL: https://www.finanzen.net/nachricht/aktien/ukraine-meldet-beschuss-von-kommandostelle-bei-kursk-14125117\n",
      "inserting records to db 584\n"
     ]
    },
    {
     "name": "stderr",
     "output_type": "stream",
     "text": [
      "İşlenen Kayıtlar: 1585it [03:48,  1.23s/it]"
     ]
    },
    {
     "name": "stdout",
     "output_type": "stream",
     "text": [
      "Hata oluştu: A string literal cannot contain NUL (0x00) characters. - URL: https://www.zdf.de/nachrichten/heute-sendungen/brasilien-waldbraende-2024-flaeche-deutschlands-verbrannt-video-100.html\n",
      "inserting records to db 585\n"
     ]
    },
    {
     "name": "stderr",
     "output_type": "stream",
     "text": [
      "İşlenen Kayıtlar: 1586it [03:49,  1.22s/it]"
     ]
    },
    {
     "name": "stdout",
     "output_type": "stream",
     "text": [
      "Hata oluştu: A string literal cannot contain NUL (0x00) characters. - URL: https://www.insider.gr/real-estate/348828/anakainizo-noikiazo-neo-programma-gia-12500-kleista-spitia\n",
      "inserting records to db 586\n"
     ]
    },
    {
     "name": "stderr",
     "output_type": "stream",
     "text": [
      "İşlenen Kayıtlar: 1587it [03:51,  1.28s/it]"
     ]
    },
    {
     "name": "stdout",
     "output_type": "stream",
     "text": [
      "Hata oluştu: A string literal cannot contain NUL (0x00) characters. - URL: https://dunya.com.pk/index.php/city/lahore/2025-01-03/2456206\n",
      "inserting records to db 587\n"
     ]
    },
    {
     "name": "stderr",
     "output_type": "stream",
     "text": [
      "İşlenen Kayıtlar: 1588it [03:52,  1.24s/it]"
     ]
    },
    {
     "name": "stdout",
     "output_type": "stream",
     "text": [
      "Hata oluştu: A string literal cannot contain NUL (0x00) characters. - URL: https://www.finanznachrichten.de/nachrichten-2025-01/64204857-amundi-jpx-nikkei-400-ucits-etf-daily-hedged-usd-c-net-asset-value-s-015.htm\n",
      "inserting records to db 588\n"
     ]
    },
    {
     "name": "stderr",
     "output_type": "stream",
     "text": [
      "İşlenen Kayıtlar: 1589it [03:53,  1.21s/it]"
     ]
    },
    {
     "name": "stdout",
     "output_type": "stream",
     "text": [
      "Hata oluştu: A string literal cannot contain NUL (0x00) characters. - URL: https://www.ensonhaber.com/gundem/suriye-ve-orta-dogudaki-krizlerin-mimari-kasim-suleymaninin-kanli-gecmisi\n",
      "inserting records to db 589\n"
     ]
    },
    {
     "name": "stderr",
     "output_type": "stream",
     "text": [
      "İşlenen Kayıtlar: 1590it [03:54,  1.27s/it]"
     ]
    },
    {
     "name": "stdout",
     "output_type": "stream",
     "text": [
      "Hata oluştu: A string literal cannot contain NUL (0x00) characters. - URL: https://webcatalog.io/he/apps/tag/fleet-maintenance-software?country=ms\n",
      "inserting records to db 590\n"
     ]
    },
    {
     "name": "stderr",
     "output_type": "stream",
     "text": [
      "İşlenen Kayıtlar: 1591it [03:55,  1.23s/it]"
     ]
    },
    {
     "name": "stdout",
     "output_type": "stream",
     "text": [
      "Hata oluştu: A string literal cannot contain NUL (0x00) characters. - URL: https://www.star.com.tr/guncel/sabri-uzuna-tutuklama-talebi-haber-1915958/\n",
      "inserting records to db 591\n"
     ]
    },
    {
     "name": "stderr",
     "output_type": "stream",
     "text": [
      "İşlenen Kayıtlar: 1592it [03:57,  1.27s/it]"
     ]
    },
    {
     "name": "stdout",
     "output_type": "stream",
     "text": [
      "Hata oluştu: A string literal cannot contain NUL (0x00) characters. - URL: https://www.finanzen.net/nachricht/aktien/ukraine-wehrt-russische-drohnen-ab-14124253\n",
      "inserting records to db 592\n"
     ]
    },
    {
     "name": "stderr",
     "output_type": "stream",
     "text": [
      "İşlenen Kayıtlar: 1593it [03:58,  1.23s/it]"
     ]
    },
    {
     "name": "stdout",
     "output_type": "stream",
     "text": [
      "Hata oluştu: A string literal cannot contain NUL (0x00) characters. - URL: https://www.zdf.de/nachrichten/heute-sendungen/busunfall-verletzte-baden-wuerttemberg-schnee-video-100.html\n",
      "inserting records to db 593\n"
     ]
    },
    {
     "name": "stderr",
     "output_type": "stream",
     "text": [
      "İşlenen Kayıtlar: 1594it [03:59,  1.20s/it]"
     ]
    },
    {
     "name": "stdout",
     "output_type": "stream",
     "text": [
      "Hata oluştu: A string literal cannot contain NUL (0x00) characters. - URL: https://www.insider.gr/tax-labour/348845/aade-i-diarkeia-misthosis-basiko-kritirio-gia-ti-forologiki-antimetopisi-ton\n",
      "inserting records to db 594\n"
     ]
    },
    {
     "name": "stderr",
     "output_type": "stream",
     "text": [
      "İşlenen Kayıtlar: 1595it [04:00,  1.21s/it]"
     ]
    },
    {
     "name": "stdout",
     "output_type": "stream",
     "text": [
      "Hata oluştu: A string literal cannot contain NUL (0x00) characters. - URL: https://www.finanznachrichten.de/nachrichten-2025-01/64204858-amundi-global-government-inflation-linked-bond-1-10y-ucits-etf-dist-net-asset-value-s-015.htm\n",
      "inserting records to db 595\n"
     ]
    },
    {
     "name": "stderr",
     "output_type": "stream",
     "text": [
      "İşlenen Kayıtlar: 1596it [04:01,  1.19s/it]"
     ]
    },
    {
     "name": "stdout",
     "output_type": "stream",
     "text": [
      "Hata oluştu: A string literal cannot contain NUL (0x00) characters. - URL: https://www.ensonhaber.com/ic-haber/kutahyada-banka-gorevlisi-gibi-davranip-50-bin-lira-dolandirdilar\n",
      "inserting records to db 596\n"
     ]
    },
    {
     "name": "stderr",
     "output_type": "stream",
     "text": [
      "İşlenen Kayıtlar: 1597it [04:03,  1.19s/it]"
     ]
    },
    {
     "name": "stdout",
     "output_type": "stream",
     "text": [
      "Hata oluştu: A string literal cannot contain NUL (0x00) characters. - URL: https://dunya.com.pk/index.php/city/lahore/2025-01-03/2456208\n",
      "inserting records to db 597\n"
     ]
    },
    {
     "name": "stderr",
     "output_type": "stream",
     "text": [
      "İşlenen Kayıtlar: 1598it [04:04,  1.18s/it]"
     ]
    },
    {
     "name": "stdout",
     "output_type": "stream",
     "text": [
      "Hata oluştu: A string literal cannot contain NUL (0x00) characters. - URL: https://webcatalog.io/he/apps/tag/fleet-management-software?country=ms\n",
      "inserting records to db 598\n"
     ]
    },
    {
     "name": "stderr",
     "output_type": "stream",
     "text": [
      "İşlenen Kayıtlar: 1599it [04:05,  1.23s/it]"
     ]
    },
    {
     "name": "stdout",
     "output_type": "stream",
     "text": [
      "Hata oluştu: A string literal cannot contain NUL (0x00) characters. - URL: https://www.finanzen.net/nachricht/aktien/ukraine-will-exporte-trotz-krieges-weiter-erhoehen-14125076\n",
      "inserting records to db 599\n"
     ]
    },
    {
     "name": "stderr",
     "output_type": "stream",
     "text": [
      "İşlenen Kayıtlar: 1600it [04:06,  1.25s/it]"
     ]
    },
    {
     "name": "stdout",
     "output_type": "stream",
     "text": [
      "Hata oluştu: A string literal cannot contain NUL (0x00) characters. - URL: https://www.zdf.de/nachrichten/heute-sendungen/fbi-new-orleans-einzeltaeter-amokfahrt-video-100.html\n",
      "inserting records to db 600\n"
     ]
    },
    {
     "name": "stderr",
     "output_type": "stream",
     "text": [
      "İşlenen Kayıtlar: 1601it [04:08,  1.23s/it]"
     ]
    },
    {
     "name": "stdout",
     "output_type": "stream",
     "text": [
      "Hata oluştu: A string literal cannot contain NUL (0x00) characters. - URL: https://www.insider.gr/tax-labour/348850/oi-5-stratigikoi-stohoi-tis-aade-eos-2029\n",
      "inserting records to db 601\n"
     ]
    },
    {
     "name": "stderr",
     "output_type": "stream",
     "text": [
      "İşlenen Kayıtlar: 1602it [04:09,  1.21s/it]"
     ]
    },
    {
     "name": "stdout",
     "output_type": "stream",
     "text": [
      "Hata oluştu: A string literal cannot contain NUL (0x00) characters. - URL: https://www.ensonhaber.com/kralspor/futbol/recep-ucardan-transfer-sozleri\n",
      "inserting records to db 602\n"
     ]
    },
    {
     "name": "stderr",
     "output_type": "stream",
     "text": [
      "İşlenen Kayıtlar: 1603it [04:10,  1.22s/it]"
     ]
    },
    {
     "name": "stdout",
     "output_type": "stream",
     "text": [
      "Hata oluştu: A string literal cannot contain NUL (0x00) characters. - URL: https://www.finanznachrichten.de/nachrichten-2025-01/64204859-amundi-russell-2000-ucits-etf-usd-c-net-asset-value-s-015.htm\n",
      "inserting records to db 603\n"
     ]
    },
    {
     "name": "stderr",
     "output_type": "stream",
     "text": [
      "İşlenen Kayıtlar: 1604it [04:11,  1.22s/it]"
     ]
    },
    {
     "name": "stdout",
     "output_type": "stream",
     "text": [
      "Hata oluştu: A string literal cannot contain NUL (0x00) characters. - URL: https://dunya.com.pk/index.php/city/lahore/2025-01-03/2456211\n",
      "inserting records to db 604\n"
     ]
    },
    {
     "name": "stderr",
     "output_type": "stream",
     "text": [
      "İşlenen Kayıtlar: 1605it [04:12,  1.21s/it]"
     ]
    },
    {
     "name": "stdout",
     "output_type": "stream",
     "text": [
      "Hata oluştu: A string literal cannot contain NUL (0x00) characters. - URL: https://webcatalog.io/he/apps/tag/fleet-tracking-software?country=ms\n",
      "inserting records to db 605\n"
     ]
    },
    {
     "name": "stderr",
     "output_type": "stream",
     "text": [
      "İşlenen Kayıtlar: 1606it [04:14,  1.26s/it]"
     ]
    },
    {
     "name": "stdout",
     "output_type": "stream",
     "text": [
      "Hata oluştu: A string literal cannot contain NUL (0x00) characters. - URL: https://www.finanzen.net/nachricht/aktien/unfallforscherin-verkehrstote-gehen-uns-alle-an-14125935\n",
      "inserting records to db 606\n"
     ]
    },
    {
     "name": "stderr",
     "output_type": "stream",
     "text": [
      "İşlenen Kayıtlar: 1607it [04:15,  1.21s/it]"
     ]
    },
    {
     "name": "stdout",
     "output_type": "stream",
     "text": [
      "Hata oluştu: A string literal cannot contain NUL (0x00) characters. - URL: https://www.zdf.de/nachrichten/heute-sendungen/suedkorea-praesident-yoon-festnahme-gescheitert-militaer-video-100.html\n",
      "inserting records to db 607\n"
     ]
    },
    {
     "name": "stderr",
     "output_type": "stream",
     "text": [
      "İşlenen Kayıtlar: 1608it [04:16,  1.18s/it]"
     ]
    },
    {
     "name": "stdout",
     "output_type": "stream",
     "text": [
      "Hata oluştu: A string literal cannot contain NUL (0x00) characters. - URL: https://www.insider.gr/toyrismos/348831/kroyaziera-nea-istorika-ypsila-2024-oi-ektimiseis-kai-oi-problimatismoi-gia-neo\n",
      "inserting records to db 608\n"
     ]
    },
    {
     "name": "stderr",
     "output_type": "stream",
     "text": [
      "İşlenen Kayıtlar: 1609it [04:17,  1.17s/it]"
     ]
    },
    {
     "name": "stdout",
     "output_type": "stream",
     "text": [
      "Hata oluştu: A string literal cannot contain NUL (0x00) characters. - URL: https://www.ensonhaber.com/kralspor/futbol/rizespor-besiktas-macinin-vari-sarper-baris-saka\n",
      "inserting records to db 609\n"
     ]
    },
    {
     "name": "stderr",
     "output_type": "stream",
     "text": [
      "İşlenen Kayıtlar: 1610it [04:18,  1.16s/it]"
     ]
    },
    {
     "name": "stdout",
     "output_type": "stream",
     "text": [
      "Hata oluştu: A string literal cannot contain NUL (0x00) characters. - URL: https://www.finanznachrichten.de/nachrichten-2025-01/64204860-amundi-global-aggregate-green-bond-1-10y-ucits-etf-gbp-hedged-dist-net-asset-value-s-015.htm\n",
      "inserting records to db 610\n"
     ]
    },
    {
     "name": "stderr",
     "output_type": "stream",
     "text": [
      "İşlenen Kayıtlar: 1611it [04:19,  1.15s/it]"
     ]
    },
    {
     "name": "stdout",
     "output_type": "stream",
     "text": [
      "Hata oluştu: A string literal cannot contain NUL (0x00) characters. - URL: https://dunya.com.pk/index.php/city/lahore/2025-01-03/2456212\n",
      "inserting records to db 611\n"
     ]
    },
    {
     "name": "stderr",
     "output_type": "stream",
     "text": [
      "İşlenen Kayıtlar: 1612it [04:21,  1.20s/it]"
     ]
    },
    {
     "name": "stdout",
     "output_type": "stream",
     "text": [
      "Hata oluştu: A string literal cannot contain NUL (0x00) characters. - URL: https://webcatalog.io/he/apps/tag/freight-management-software?country=ms\n",
      "inserting records to db 612\n"
     ]
    },
    {
     "name": "stderr",
     "output_type": "stream",
     "text": [
      "İşlenen Kayıtlar: 1613it [04:22,  1.34s/it]"
     ]
    },
    {
     "name": "stdout",
     "output_type": "stream",
     "text": [
      "Hata oluştu: A string literal cannot contain NUL (0x00) characters. - URL: https://www.finanzen.net/nachricht/aktien/unilever-aktie-kursbewegung-02-01-2025-11201216\n",
      "inserting records to db 613\n"
     ]
    },
    {
     "name": "stderr",
     "output_type": "stream",
     "text": [
      "İşlenen Kayıtlar: 1614it [04:24,  1.31s/it]"
     ]
    },
    {
     "name": "stdout",
     "output_type": "stream",
     "text": [
      "Hata oluştu: A string literal cannot contain NUL (0x00) characters. - URL: https://www.zdf.de/nachrichten/heute-sendungen/syrien-baerbock-besuch-keine-finanzversprechen-erwartet-video-100.html\n",
      "inserting records to db 614\n"
     ]
    },
    {
     "name": "stderr",
     "output_type": "stream",
     "text": [
      "İşlenen Kayıtlar: 1615it [04:25,  1.30s/it]"
     ]
    },
    {
     "name": "stdout",
     "output_type": "stream",
     "text": [
      "Hata oluştu: A string literal cannot contain NUL (0x00) characters. - URL: https://www.insider.gr/toyrismos/348840/i-skopelos-anamesa-stoys-10-proorismoys-tis-eyropis-me-tis-kalyteres-paralies-gia\n",
      "inserting records to db 615\n"
     ]
    },
    {
     "name": "stderr",
     "output_type": "stream",
     "text": [
      "İşlenen Kayıtlar: 1615it [04:25,  6.07it/s]\n"
     ]
    },
    {
     "ename": "KeyboardInterrupt",
     "evalue": "",
     "output_type": "error",
     "traceback": [
      "\u001b[0;31m---------------------------------------------------------------------------\u001b[0m",
      "\u001b[0;31mKeyboardInterrupt\u001b[0m                         Traceback (most recent call last)",
      "Cell \u001b[0;32mIn[12], line 14\u001b[0m\n\u001b[1;32m     11\u001b[0m warc_file \u001b[38;5;241m=\u001b[39m \u001b[38;5;124m\"\u001b[39m\u001b[38;5;124m../website_data.warc\u001b[39m\u001b[38;5;124m\"\u001b[39m\n\u001b[1;32m     13\u001b[0m \u001b[38;5;66;03m# Kodu çalıştır\u001b[39;00m\n\u001b[0;32m---> 14\u001b[0m process_warc_file(warc_file, db_params, batch_size\u001b[38;5;241m=\u001b[39m\u001b[38;5;241m500\u001b[39m)\n",
      "Cell \u001b[0;32mIn[11], line 47\u001b[0m, in \u001b[0;36mprocess_warc_file\u001b[0;34m(warc_path, db_params, batch_size)\u001b[0m\n\u001b[1;32m     45\u001b[0m \u001b[38;5;28;01mif\u001b[39;00m \u001b[38;5;28mlen\u001b[39m(batch_records) \u001b[38;5;241m>\u001b[39m\u001b[38;5;241m=\u001b[39m batch_size:\n\u001b[1;32m     46\u001b[0m     \u001b[38;5;28mprint\u001b[39m(\u001b[38;5;124m\"\u001b[39m\u001b[38;5;124minserting records to db\u001b[39m\u001b[38;5;124m\"\u001b[39m, \u001b[38;5;28mlen\u001b[39m(batch_records));\n\u001b[0;32m---> 47\u001b[0m     execute_values(cur,\n\u001b[1;32m     48\u001b[0m         \u001b[38;5;124m'\u001b[39m\u001b[38;5;124mINSERT INTO pages (url, title, html) VALUES \u001b[39m\u001b[38;5;132;01m%s\u001b[39;00m\u001b[38;5;124m'\u001b[39m,\n\u001b[1;32m     49\u001b[0m         batch_records,\n\u001b[1;32m     50\u001b[0m         template\u001b[38;5;241m=\u001b[39m\u001b[38;5;124m'\u001b[39m\u001b[38;5;124m(\u001b[39m\u001b[38;5;132;01m%s\u001b[39;00m\u001b[38;5;124m, \u001b[39m\u001b[38;5;132;01m%s\u001b[39;00m\u001b[38;5;124m, \u001b[39m\u001b[38;5;132;01m%s\u001b[39;00m\u001b[38;5;124m)\u001b[39m\u001b[38;5;124m'\u001b[39m\n\u001b[1;32m     51\u001b[0m     )\n\u001b[1;32m     52\u001b[0m     conn\u001b[38;5;241m.\u001b[39mcommit()\n\u001b[1;32m     54\u001b[0m     \u001b[38;5;66;03m# Belleği temizle\u001b[39;00m\n",
      "File \u001b[0;32m/opt/anaconda3/lib/python3.12/site-packages/psycopg2/extras.py:1299\u001b[0m, in \u001b[0;36mexecute_values\u001b[0;34m(cur, sql, argslist, template, page_size, fetch)\u001b[0m\n\u001b[1;32m   1297\u001b[0m     parts\u001b[38;5;241m.\u001b[39mappend(\u001b[38;5;124mb\u001b[39m\u001b[38;5;124m'\u001b[39m\u001b[38;5;124m,\u001b[39m\u001b[38;5;124m'\u001b[39m)\n\u001b[1;32m   1298\u001b[0m parts[\u001b[38;5;241m-\u001b[39m\u001b[38;5;241m1\u001b[39m:] \u001b[38;5;241m=\u001b[39m post\n\u001b[0;32m-> 1299\u001b[0m cur\u001b[38;5;241m.\u001b[39mexecute(\u001b[38;5;124mb\u001b[39m\u001b[38;5;124m'\u001b[39m\u001b[38;5;124m'\u001b[39m\u001b[38;5;241m.\u001b[39mjoin(parts))\n\u001b[1;32m   1300\u001b[0m \u001b[38;5;28;01mif\u001b[39;00m fetch:\n\u001b[1;32m   1301\u001b[0m     result\u001b[38;5;241m.\u001b[39mextend(cur\u001b[38;5;241m.\u001b[39mfetchall())\n",
      "File \u001b[0;32m/opt/anaconda3/lib/python3.12/encodings/utf_8.py:15\u001b[0m, in \u001b[0;36mdecode\u001b[0;34m(input, errors)\u001b[0m\n\u001b[1;32m     11\u001b[0m \u001b[38;5;66;03m### Codec APIs\u001b[39;00m\n\u001b[1;32m     13\u001b[0m encode \u001b[38;5;241m=\u001b[39m codecs\u001b[38;5;241m.\u001b[39mutf_8_encode\n\u001b[0;32m---> 15\u001b[0m \u001b[38;5;28;01mdef\u001b[39;00m \u001b[38;5;21mdecode\u001b[39m(\u001b[38;5;28minput\u001b[39m, errors\u001b[38;5;241m=\u001b[39m\u001b[38;5;124m'\u001b[39m\u001b[38;5;124mstrict\u001b[39m\u001b[38;5;124m'\u001b[39m):\n\u001b[1;32m     16\u001b[0m     \u001b[38;5;28;01mreturn\u001b[39;00m codecs\u001b[38;5;241m.\u001b[39mutf_8_decode(\u001b[38;5;28minput\u001b[39m, errors, \u001b[38;5;28;01mTrue\u001b[39;00m)\n\u001b[1;32m     18\u001b[0m \u001b[38;5;28;01mclass\u001b[39;00m \u001b[38;5;21;01mIncrementalEncoder\u001b[39;00m(codecs\u001b[38;5;241m.\u001b[39mIncrementalEncoder):\n",
      "\u001b[0;31mKeyboardInterrupt\u001b[0m: "
     ]
    }
   ],
   "source": [
    "# PostgreSQL bağlantı parametreleri\n",
    "db_params = {\n",
    "    'dbname': 'websites',\n",
    "    'user': 'postgres',\n",
    "    'password': '1234567',\n",
    "    'host': 'localhost',\n",
    "    'port': '5432'\n",
    "}\n",
    "\n",
    "# WARC dosyasının yolu\n",
    "warc_file = \"../website_data.warc\"\n",
    "\n",
    "# Kodu çalıştır\n",
    "process_warc_file(warc_file, db_params, batch_size=500)"
   ]
  }
 ],
 "metadata": {
  "kernelspec": {
   "display_name": "base",
   "language": "python",
   "name": "python3"
  },
  "language_info": {
   "codemirror_mode": {
    "name": "ipython",
    "version": 3
   },
   "file_extension": ".py",
   "mimetype": "text/x-python",
   "name": "python",
   "nbconvert_exporter": "python",
   "pygments_lexer": "ipython3",
   "version": "3.12.2"
  }
 },
 "nbformat": 4,
 "nbformat_minor": 5
}

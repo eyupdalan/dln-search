{
 "cells": [
  {
   "cell_type": "markdown",
   "id": "e6f74597",
   "metadata": {},
   "source": [
    "# Parsing WARC File"
   ]
  },
  {
   "cell_type": "markdown",
   "id": "50270972",
   "metadata": {},
   "source": [
    "### 🛠 Installing Necessary Libraries\n",
    "\n",
    "Toplam işlenen kayıt: 98984\n",
    "Toplam geçen süre: 7211.72 saniye\n",
    "Saniyede ortalama kayıt: 13.73\n",
    "\n",
    "Bu kayıtlar için başlık, url ve html bilgileri çıkarılarak sqlite db'ye kaydedildi"
   ]
  },
  {
   "cell_type": "code",
   "execution_count": 9,
   "id": "33aa26e3",
   "metadata": {},
   "outputs": [
    {
     "name": "stdout",
     "output_type": "stream",
     "text": [
      "Requirement already satisfied: warcio in /opt/anaconda3/lib/python3.12/site-packages (1.7.5)\n",
      "Requirement already satisfied: beautifulsoup4 in /opt/anaconda3/lib/python3.12/site-packages (4.12.3)\n",
      "Requirement already satisfied: psycopg2-binary in /opt/anaconda3/lib/python3.12/site-packages (2.9.10)\n",
      "Requirement already satisfied: six in /opt/anaconda3/lib/python3.12/site-packages (from warcio) (1.16.0)\n",
      "Requirement already satisfied: soupsieve>1.2 in /opt/anaconda3/lib/python3.12/site-packages (from beautifulsoup4) (2.5)\n",
      "Note: you may need to restart the kernel to use updated packages.\n"
     ]
    }
   ],
   "source": [
    "pip install warcio beautifulsoup4 psycopg2-binary"
   ]
  },
  {
   "cell_type": "code",
   "execution_count": 10,
   "id": "edd25056",
   "metadata": {},
   "outputs": [],
   "source": [
    "# from warcio.archiveiterator import ArchiveIterator\n",
    "# from bs4 import BeautifulSoup\n",
    "# import sqlite3\n",
    "# import time\n",
    "\n",
    "# def process_warc_file_in_chunks(warc_path, db_path, batch_size=100):\n",
    "#     \"\"\"\n",
    "#     WARC dosyasını parça parça işleyerek SQLite'a kaydeder\n",
    "    \n",
    "#     Args:\n",
    "#         warc_path: WARC dosyasının yolu\n",
    "#         db_path: SQLite veritabanının yolu\n",
    "#         batch_size: Her defasında işlenecek kayıt sayısı\n",
    "#     \"\"\"\n",
    "#     # SQLite bağlantısını oluştur\n",
    "#     conn = sqlite3.connect(db_path)\n",
    "#     c = conn.cursor()\n",
    "    \n",
    "#     # Tablo oluştur (eğer yoksa)\n",
    "#     c.execute('CREATE TABLE IF NOT EXISTS pages (id INTEGER PRIMARY KEY, url TEXT, title TEXT, html TEXT)')\n",
    "    \n",
    "#     # İşleme istatistikleri\n",
    "#     start_time = time.time()\n",
    "#     total_records = 0\n",
    "#     batch_records = []\n",
    "    \n",
    "#     # WARC dosyasını aç ve kayıtları işle\n",
    "#     with open(warc_path, 'rb') as stream:\n",
    "#         for record in ArchiveIterator(stream):\n",
    "#             if record.rec_type == 'response':\n",
    "#                 try:\n",
    "#                     url = record.rec_headers.get_header('WARC-Target-URI')\n",
    "#                     raw_html = record.content_stream().read().decode('utf-8', errors='replace')\n",
    "                    \n",
    "#                     soup = BeautifulSoup(raw_html, 'html.parser')\n",
    "#                     title = soup.title.string if soup.title else ''\n",
    "                    \n",
    "#                     batch_records.append((url, title, raw_html))\n",
    "#                     total_records += 1\n",
    "                    \n",
    "#                     # Belirli bir sayıda kayıt toplandıysa veritabanına kaydet\n",
    "#                     if len(batch_records) >= batch_size:\n",
    "#                         c.executemany('INSERT INTO pages (url, title, html) VALUES (?, ?, ?)', batch_records)\n",
    "#                         conn.commit()\n",
    "                        \n",
    "#                         elapsed_time = time.time() - start_time\n",
    "#                         print(f\"İşlenen kayıt: {total_records}, Geçen süre: {elapsed_time:.2f} saniye\")\n",
    "                        \n",
    "#                         # Belleği temizle\n",
    "#                         batch_records = []\n",
    "                \n",
    "#                 except Exception as e:\n",
    "#                     print(f\"Hata oluştu: {e} - URL: {url if 'url' in locals() else 'bilinmiyor'}\")\n",
    "    \n",
    "#     # Kalan kayıtları kaydet\n",
    "#     if batch_records:\n",
    "#         c.executemany('INSERT INTO pages (url, title, html) VALUES (?, ?, ?)', batch_records)\n",
    "#         conn.commit()\n",
    "    \n",
    "#     # İstatistikleri göster\n",
    "#     total_time = time.time() - start_time\n",
    "#     print(f\"Toplam işlenen kayıt: {total_records}\")\n",
    "#     print(f\"Toplam geçen süre: {total_time:.2f} saniye\")\n",
    "#     print(f\"Saniyede ortalama kayıt: {total_records/total_time:.2f}\")\n",
    "    \n",
    "#     conn.close()\n",
    "\n",
    "# # Kodu çalıştır\n",
    "# warc_file = \"./website_data.warc\"\n",
    "# db_file = \"websites.db\"\n",
    "# process_warc_file_in_chunks(warc_file, db_file, batch_size=500)"
   ]
  },
  {
   "cell_type": "markdown",
   "id": "91931836",
   "metadata": {},
   "source": [
    "### WARC dosyasının parse edilip PostgreSQL DB'ye kaydedilmesi"
   ]
  },
  {
   "cell_type": "code",
   "execution_count": 14,
   "id": "4d6f4466",
   "metadata": {},
   "outputs": [],
   "source": [
    "from warcio.archiveiterator import ArchiveIterator\n",
    "from bs4 import BeautifulSoup\n",
    "import psycopg2\n",
    "import time\n",
    "from psycopg2.extras import execute_values\n",
    "from tqdm import tqdm  # tqdm kütüphanesini ekleyin\n",
    "\n",
    "def process_warc_file(warc_path, db_params, batch_size=100):\n",
    "    \"\"\"\n",
    "    WARC dosyasını parça parça işleyerek PostgreSQL'e kaydeder\n",
    "    \n",
    "    Args:\n",
    "        warc_path: WARC dosyasının yolu\n",
    "        db_params: PostgreSQL bağlantı parametreleri (dict)\n",
    "        batch_size: Her defasında işlenecek kayıt sayısı\n",
    "    \"\"\"\n",
    "    # PostgreSQL bağlantısını oluştur\n",
    "    conn = psycopg2.connect(**db_params)\n",
    "    print(\"connection success\", conn)\n",
    "    cur = conn.cursor()\n",
    "    print(\"cursor success\", cur)\n",
    "    \n",
    "    # İşleme istatistikleri\n",
    "    start_time = time.time()\n",
    "    total_records = 0\n",
    "    batch_records = []\n",
    "    \n",
    "    # WARC dosyasını aç ve kayıtları işle\n",
    "    with open(warc_path, 'rb') as stream:\n",
    "        # tqdm ile ilerleme çubuğunu ekleyin\n",
    "        print(\"started processing warc file\");\n",
    "        for record in tqdm(ArchiveIterator(stream), desc=\"İşlenen Kayıtlar\"):\n",
    "            if record.rec_type == 'response':\n",
    "                try:\n",
    "                    url = record.rec_headers.get_header('WARC-Target-URI')\n",
    "                    raw_html = record.content_stream().read().decode('utf-8', errors='replace')\n",
    "                    # remove null characters\n",
    "                    raw_html = raw_html.replace('\\x00', '')\n",
    "                    \n",
    "                    soup = BeautifulSoup(raw_html, 'html.parser')\n",
    "                    title = soup.title.string if soup.title else ''\n",
    "                    \n",
    "                    batch_records.append((url, title, raw_html))\n",
    "                    total_records += 1\n",
    "                    \n",
    "                    # Belirli bir sayıda kayıt toplandıysa veritabanına kaydet\n",
    "                    if len(batch_records) >= batch_size:\n",
    "                        print(\"inserting records to db\", len(batch_records));\n",
    "                        execute_values(cur,\n",
    "                            'INSERT INTO pages (url, title, html) VALUES %s',\n",
    "                            batch_records,\n",
    "                            template='(%s, %s, %s)'\n",
    "                        )\n",
    "                        conn.commit()\n",
    "                        \n",
    "                        # Belleği temizle\n",
    "                        batch_records = []\n",
    "            \n",
    "                except Exception as e:\n",
    "                    print(f\"Hata oluştu: {e} - URL: {url if 'url' in locals() else 'bilinmiyor'}\")\n",
    "    \n",
    "    # Kalan kayıtları kaydet\n",
    "    if batch_records:\n",
    "        execute_values(cur,\n",
    "            'INSERT INTO pages (url, title, html) VALUES %s',\n",
    "            batch_records,\n",
    "            template='(%s, %s, %s)'\n",
    "        )\n",
    "        conn.commit()\n",
    "    \n",
    "    # İstatistikleri göster\n",
    "    total_time = time.time() - start_time\n",
    "    print(f\"Toplam işlenen kayıt: {total_records}\")\n",
    "    print(f\"Toplam geçen süre: {total_time:.2f} saniye\")\n",
    "    print(f\"Saniyede ortalama kayıt: {total_records/total_time:.2f}\")\n",
    "    \n",
    "    cur.close()\n",
    "    conn.close()"
   ]
  },
  {
   "cell_type": "code",
   "execution_count": 15,
   "id": "320e4ff7",
   "metadata": {},
   "outputs": [
    {
     "name": "stdout",
     "output_type": "stream",
     "text": [
      "connection success <connection object at 0x157b406d0; dsn: 'user=postgres password=xxx dbname=websites host=localhost port=5432', closed: 0>\n",
      "cursor success <cursor object at 0x15887f880; closed: 0>\n",
      "started processing warc file\n"
     ]
    },
    {
     "name": "stderr",
     "output_type": "stream",
     "text": [
      "İşlenen Kayıtlar: 0it [00:00, ?it/s]"
     ]
    },
    {
     "name": "stderr",
     "output_type": "stream",
     "text": [
      "İşlenen Kayıtlar: 497it [00:42, 13.76it/s]"
     ]
    },
    {
     "name": "stdout",
     "output_type": "stream",
     "text": [
      "inserting records to db 500\n"
     ]
    },
    {
     "name": "stderr",
     "output_type": "stream",
     "text": [
      "İşlenen Kayıtlar: 999it [01:29, 17.77it/s]"
     ]
    },
    {
     "name": "stdout",
     "output_type": "stream",
     "text": [
      "inserting records to db 500\n"
     ]
    },
    {
     "name": "stderr",
     "output_type": "stream",
     "text": [
      "İşlenen Kayıtlar: 1293it [01:55, 28.42it/s]"
     ]
    },
    {
     "name": "stdout",
     "output_type": "stream",
     "text": [
      "Hata oluştu: The markup you provided was rejected by the parser. Trying a different parser or a different encoding may help.\n",
      "\n",
      "Original exception(s) from parser:\n",
      " AssertionError: expected name token at '<![��P���a�9\\x02l~Q����' - URL: https://files.dainikshiksha.com/136301/conversions/najirpur-thumb.webp\n"
     ]
    },
    {
     "name": "stderr",
     "output_type": "stream",
     "text": [
      "İşlenen Kayıtlar: 1495it [02:10, 19.40it/s]"
     ]
    },
    {
     "name": "stdout",
     "output_type": "stream",
     "text": [
      "inserting records to db 500\n"
     ]
    },
    {
     "name": "stderr",
     "output_type": "stream",
     "text": [
      "İşlenen Kayıtlar: 1999it [02:53, 19.29it/s]"
     ]
    },
    {
     "name": "stdout",
     "output_type": "stream",
     "text": [
      "inserting records to db 500\n"
     ]
    },
    {
     "name": "stderr",
     "output_type": "stream",
     "text": [
      "İşlenen Kayıtlar: 2498it [03:25, 17.95it/s]"
     ]
    },
    {
     "name": "stdout",
     "output_type": "stream",
     "text": [
      "inserting records to db 500\n"
     ]
    },
    {
     "name": "stderr",
     "output_type": "stream",
     "text": [
      "İşlenen Kayıtlar: 2999it [03:44, 24.15it/s]"
     ]
    },
    {
     "name": "stdout",
     "output_type": "stream",
     "text": [
      "inserting records to db 500\n"
     ]
    },
    {
     "name": "stderr",
     "output_type": "stream",
     "text": [
      "İşlenen Kayıtlar: 3497it [04:10, 41.67it/s]"
     ]
    },
    {
     "name": "stdout",
     "output_type": "stream",
     "text": [
      "inserting records to db 500\n"
     ]
    },
    {
     "name": "stderr",
     "output_type": "stream",
     "text": [
      "İşlenen Kayıtlar: 3999it [04:34, 26.28it/s]"
     ]
    },
    {
     "name": "stdout",
     "output_type": "stream",
     "text": [
      "inserting records to db 500\n"
     ]
    },
    {
     "name": "stderr",
     "output_type": "stream",
     "text": [
      "İşlenen Kayıtlar: 4497it [04:59, 32.98it/s]"
     ]
    },
    {
     "name": "stdout",
     "output_type": "stream",
     "text": [
      "inserting records to db 500\n"
     ]
    },
    {
     "name": "stderr",
     "output_type": "stream",
     "text": [
      "İşlenen Kayıtlar: 4999it [05:22, 25.80it/s]"
     ]
    },
    {
     "name": "stdout",
     "output_type": "stream",
     "text": [
      "inserting records to db 500\n"
     ]
    },
    {
     "name": "stderr",
     "output_type": "stream",
     "text": [
      "İşlenen Kayıtlar: 5499it [06:07, 19.09it/s]"
     ]
    },
    {
     "name": "stdout",
     "output_type": "stream",
     "text": [
      "inserting records to db 500\n"
     ]
    },
    {
     "name": "stderr",
     "output_type": "stream",
     "text": [
      "İşlenen Kayıtlar: 5999it [06:48, 19.59it/s]"
     ]
    },
    {
     "name": "stdout",
     "output_type": "stream",
     "text": [
      "inserting records to db 500\n"
     ]
    },
    {
     "name": "stderr",
     "output_type": "stream",
     "text": [
      "İşlenen Kayıtlar: 6499it [07:35, 18.60it/s]"
     ]
    },
    {
     "name": "stdout",
     "output_type": "stream",
     "text": [
      "inserting records to db 500\n"
     ]
    },
    {
     "name": "stderr",
     "output_type": "stream",
     "text": [
      "İşlenen Kayıtlar: 6998it [08:20, 28.94it/s]"
     ]
    },
    {
     "name": "stdout",
     "output_type": "stream",
     "text": [
      "inserting records to db 500\n"
     ]
    },
    {
     "name": "stderr",
     "output_type": "stream",
     "text": [
      "İşlenen Kayıtlar: 7499it [08:48, 31.36it/s]"
     ]
    },
    {
     "name": "stdout",
     "output_type": "stream",
     "text": [
      "inserting records to db 500\n"
     ]
    },
    {
     "name": "stderr",
     "output_type": "stream",
     "text": [
      "İşlenen Kayıtlar: 7996it [09:23,  2.48it/s]"
     ]
    },
    {
     "name": "stdout",
     "output_type": "stream",
     "text": [
      "inserting records to db 500\n"
     ]
    },
    {
     "name": "stderr",
     "output_type": "stream",
     "text": [
      "İşlenen Kayıtlar: 8371it [09:39, 41.01it/s]/opt/anaconda3/lib/python3.12/html/parser.py:171: XMLParsedAsHTMLWarning: It looks like you're parsing an XML document using an HTML parser. If this really is an HTML document (maybe it's XHTML?), you can ignore or filter this warning. If it's XML, you should know that using an XML parser will be more reliable. To parse this document as XML, make sure you have the lxml package installed, and pass the keyword argument `features=\"xml\"` into the BeautifulSoup constructor.\n",
      "  k = self.parse_starttag(i)\n",
      "İşlenen Kayıtlar: 8499it [09:44, 30.83it/s]"
     ]
    },
    {
     "name": "stdout",
     "output_type": "stream",
     "text": [
      "inserting records to db 500\n"
     ]
    },
    {
     "name": "stderr",
     "output_type": "stream",
     "text": [
      "İşlenen Kayıtlar: 8998it [10:13, 39.70it/s]"
     ]
    },
    {
     "name": "stdout",
     "output_type": "stream",
     "text": [
      "inserting records to db 500\n"
     ]
    },
    {
     "name": "stderr",
     "output_type": "stream",
     "text": [
      "İşlenen Kayıtlar: 9499it [10:51,  2.71it/s]"
     ]
    },
    {
     "name": "stdout",
     "output_type": "stream",
     "text": [
      "inserting records to db 500\n"
     ]
    },
    {
     "name": "stderr",
     "output_type": "stream",
     "text": [
      "İşlenen Kayıtlar: 10000it [11:17, 32.01it/s]"
     ]
    },
    {
     "name": "stdout",
     "output_type": "stream",
     "text": [
      "inserting records to db 500\n"
     ]
    },
    {
     "name": "stderr",
     "output_type": "stream",
     "text": [
      "İşlenen Kayıtlar: 10500it [11:47, 47.66it/s]"
     ]
    },
    {
     "name": "stdout",
     "output_type": "stream",
     "text": [
      "inserting records to db 500\n"
     ]
    },
    {
     "name": "stderr",
     "output_type": "stream",
     "text": [
      "İşlenen Kayıtlar: 10999it [12:09, 44.08it/s]"
     ]
    },
    {
     "name": "stdout",
     "output_type": "stream",
     "text": [
      "inserting records to db 500\n"
     ]
    },
    {
     "name": "stderr",
     "output_type": "stream",
     "text": [
      "İşlenen Kayıtlar: 11497it [12:30, 50.56it/s]"
     ]
    },
    {
     "name": "stdout",
     "output_type": "stream",
     "text": [
      "inserting records to db 500\n"
     ]
    },
    {
     "name": "stderr",
     "output_type": "stream",
     "text": [
      "İşlenen Kayıtlar: 11993it [12:43, 68.52it/s]"
     ]
    },
    {
     "name": "stdout",
     "output_type": "stream",
     "text": [
      "inserting records to db 500\n"
     ]
    },
    {
     "name": "stderr",
     "output_type": "stream",
     "text": [
      "İşlenen Kayıtlar: 12496it [13:04, 51.26it/s]"
     ]
    },
    {
     "name": "stdout",
     "output_type": "stream",
     "text": [
      "inserting records to db 500\n"
     ]
    },
    {
     "name": "stderr",
     "output_type": "stream",
     "text": [
      "İşlenen Kayıtlar: 12997it [13:19, 45.25it/s]"
     ]
    },
    {
     "name": "stdout",
     "output_type": "stream",
     "text": [
      "inserting records to db 500\n"
     ]
    },
    {
     "name": "stderr",
     "output_type": "stream",
     "text": [
      "İşlenen Kayıtlar: 13500it [13:43, 26.38it/s]"
     ]
    },
    {
     "name": "stdout",
     "output_type": "stream",
     "text": [
      "inserting records to db 500\n"
     ]
    },
    {
     "name": "stderr",
     "output_type": "stream",
     "text": [
      "İşlenen Kayıtlar: 13998it [19:10, 16.95it/s]"
     ]
    },
    {
     "name": "stdout",
     "output_type": "stream",
     "text": [
      "inserting records to db 500\n"
     ]
    },
    {
     "name": "stderr",
     "output_type": "stream",
     "text": [
      "İşlenen Kayıtlar: 14500it [20:15,  7.70it/s]"
     ]
    },
    {
     "name": "stdout",
     "output_type": "stream",
     "text": [
      "inserting records to db 500\n"
     ]
    },
    {
     "name": "stderr",
     "output_type": "stream",
     "text": [
      "İşlenen Kayıtlar: 14997it [35:55, 54.94it/s] "
     ]
    },
    {
     "name": "stdout",
     "output_type": "stream",
     "text": [
      "inserting records to db 500\n"
     ]
    },
    {
     "name": "stderr",
     "output_type": "stream",
     "text": [
      "İşlenen Kayıtlar: 15499it [51:51, 15.75it/s] "
     ]
    },
    {
     "name": "stdout",
     "output_type": "stream",
     "text": [
      "inserting records to db 500\n"
     ]
    },
    {
     "name": "stderr",
     "output_type": "stream",
     "text": [
      "İşlenen Kayıtlar: 15999it [53:02, 11.69it/s]"
     ]
    },
    {
     "name": "stdout",
     "output_type": "stream",
     "text": [
      "inserting records to db 500\n"
     ]
    },
    {
     "name": "stderr",
     "output_type": "stream",
     "text": [
      "İşlenen Kayıtlar: 16500it [54:24, 11.48it/s]"
     ]
    },
    {
     "name": "stdout",
     "output_type": "stream",
     "text": [
      "inserting records to db 500\n"
     ]
    },
    {
     "name": "stderr",
     "output_type": "stream",
     "text": [
      "İşlenen Kayıtlar: 16998it [55:20, 17.27it/s]"
     ]
    },
    {
     "name": "stdout",
     "output_type": "stream",
     "text": [
      "inserting records to db 500\n"
     ]
    },
    {
     "name": "stderr",
     "output_type": "stream",
     "text": [
      "İşlenen Kayıtlar: 17498it [56:01, 24.64it/s]"
     ]
    },
    {
     "name": "stdout",
     "output_type": "stream",
     "text": [
      "inserting records to db 500\n"
     ]
    },
    {
     "name": "stderr",
     "output_type": "stream",
     "text": [
      "İşlenen Kayıtlar: 17998it [56:28, 34.63it/s]"
     ]
    },
    {
     "name": "stdout",
     "output_type": "stream",
     "text": [
      "inserting records to db 500\n"
     ]
    },
    {
     "name": "stderr",
     "output_type": "stream",
     "text": [
      "İşlenen Kayıtlar: 18500it [57:08, 23.48it/s]"
     ]
    },
    {
     "name": "stdout",
     "output_type": "stream",
     "text": [
      "inserting records to db 500\n"
     ]
    },
    {
     "name": "stderr",
     "output_type": "stream",
     "text": [
      "İşlenen Kayıtlar: 19000it [57:40, 21.90it/s]"
     ]
    },
    {
     "name": "stdout",
     "output_type": "stream",
     "text": [
      "inserting records to db 500\n"
     ]
    },
    {
     "name": "stderr",
     "output_type": "stream",
     "text": [
      "İşlenen Kayıtlar: 19499it [58:08, 23.75it/s]"
     ]
    },
    {
     "name": "stdout",
     "output_type": "stream",
     "text": [
      "inserting records to db 500\n"
     ]
    },
    {
     "name": "stderr",
     "output_type": "stream",
     "text": [
      "İşlenen Kayıtlar: 19998it [58:38, 23.86it/s]"
     ]
    },
    {
     "name": "stdout",
     "output_type": "stream",
     "text": [
      "inserting records to db 500\n"
     ]
    },
    {
     "name": "stderr",
     "output_type": "stream",
     "text": [
      "İşlenen Kayıtlar: 20498it [59:08, 24.77it/s]"
     ]
    },
    {
     "name": "stdout",
     "output_type": "stream",
     "text": [
      "inserting records to db 500\n"
     ]
    },
    {
     "name": "stderr",
     "output_type": "stream",
     "text": [
      "İşlenen Kayıtlar: 20998it [59:41, 25.31it/s]"
     ]
    },
    {
     "name": "stdout",
     "output_type": "stream",
     "text": [
      "inserting records to db 500\n"
     ]
    },
    {
     "name": "stderr",
     "output_type": "stream",
     "text": [
      "İşlenen Kayıtlar: 21500it [1:00:03, 33.30it/s]"
     ]
    },
    {
     "name": "stdout",
     "output_type": "stream",
     "text": [
      "inserting records to db 500\n"
     ]
    },
    {
     "name": "stderr",
     "output_type": "stream",
     "text": [
      "İşlenen Kayıtlar: 21997it [1:00:32, 37.59it/s]"
     ]
    },
    {
     "name": "stdout",
     "output_type": "stream",
     "text": [
      "inserting records to db 500\n"
     ]
    },
    {
     "name": "stderr",
     "output_type": "stream",
     "text": [
      "İşlenen Kayıtlar: 22499it [1:00:50, 29.76it/s]"
     ]
    },
    {
     "name": "stdout",
     "output_type": "stream",
     "text": [
      "inserting records to db 500\n"
     ]
    },
    {
     "name": "stderr",
     "output_type": "stream",
     "text": [
      "İşlenen Kayıtlar: 22997it [1:01:16, 32.33it/s]"
     ]
    },
    {
     "name": "stdout",
     "output_type": "stream",
     "text": [
      "inserting records to db 500\n"
     ]
    },
    {
     "name": "stderr",
     "output_type": "stream",
     "text": [
      "İşlenen Kayıtlar: 23497it [1:01:44, 29.42it/s]"
     ]
    },
    {
     "name": "stdout",
     "output_type": "stream",
     "text": [
      "inserting records to db 500\n"
     ]
    },
    {
     "name": "stderr",
     "output_type": "stream",
     "text": [
      "İşlenen Kayıtlar: 24000it [1:02:04, 25.92it/s]"
     ]
    },
    {
     "name": "stdout",
     "output_type": "stream",
     "text": [
      "inserting records to db 500\n"
     ]
    },
    {
     "name": "stderr",
     "output_type": "stream",
     "text": [
      "İşlenen Kayıtlar: 24499it [1:02:38, 19.54it/s]"
     ]
    },
    {
     "name": "stdout",
     "output_type": "stream",
     "text": [
      "inserting records to db 500\n"
     ]
    },
    {
     "name": "stderr",
     "output_type": "stream",
     "text": [
      "İşlenen Kayıtlar: 25000it [1:03:14, 21.50it/s]"
     ]
    },
    {
     "name": "stdout",
     "output_type": "stream",
     "text": [
      "inserting records to db 500\n"
     ]
    },
    {
     "name": "stderr",
     "output_type": "stream",
     "text": [
      "İşlenen Kayıtlar: 25500it [1:04:08, 12.42it/s]"
     ]
    },
    {
     "name": "stdout",
     "output_type": "stream",
     "text": [
      "inserting records to db 500\n"
     ]
    },
    {
     "name": "stderr",
     "output_type": "stream",
     "text": [
      "İşlenen Kayıtlar: 26000it [1:04:52, 16.45it/s]"
     ]
    },
    {
     "name": "stdout",
     "output_type": "stream",
     "text": [
      "inserting records to db 500\n"
     ]
    },
    {
     "name": "stderr",
     "output_type": "stream",
     "text": [
      "İşlenen Kayıtlar: 26500it [1:05:31, 24.78it/s]"
     ]
    },
    {
     "name": "stdout",
     "output_type": "stream",
     "text": [
      "inserting records to db 500\n"
     ]
    },
    {
     "name": "stderr",
     "output_type": "stream",
     "text": [
      "İşlenen Kayıtlar: 26998it [1:06:10, 27.22it/s]"
     ]
    },
    {
     "name": "stdout",
     "output_type": "stream",
     "text": [
      "inserting records to db 500\n"
     ]
    },
    {
     "name": "stderr",
     "output_type": "stream",
     "text": [
      "İşlenen Kayıtlar: 27499it [1:06:36, 21.06it/s]"
     ]
    },
    {
     "name": "stdout",
     "output_type": "stream",
     "text": [
      "inserting records to db 500\n"
     ]
    },
    {
     "name": "stderr",
     "output_type": "stream",
     "text": [
      "İşlenen Kayıtlar: 27999it [1:07:11, 22.63it/s]"
     ]
    },
    {
     "name": "stdout",
     "output_type": "stream",
     "text": [
      "inserting records to db 500\n"
     ]
    },
    {
     "name": "stderr",
     "output_type": "stream",
     "text": [
      "İşlenen Kayıtlar: 28497it [1:07:44, 19.47it/s]"
     ]
    },
    {
     "name": "stdout",
     "output_type": "stream",
     "text": [
      "inserting records to db 500\n"
     ]
    },
    {
     "name": "stderr",
     "output_type": "stream",
     "text": [
      "İşlenen Kayıtlar: 28999it [1:08:26, 30.34it/s]"
     ]
    },
    {
     "name": "stdout",
     "output_type": "stream",
     "text": [
      "inserting records to db 500\n"
     ]
    },
    {
     "name": "stderr",
     "output_type": "stream",
     "text": [
      "İşlenen Kayıtlar: 29499it [1:09:01, 16.03it/s]"
     ]
    },
    {
     "name": "stdout",
     "output_type": "stream",
     "text": [
      "inserting records to db 500\n"
     ]
    },
    {
     "name": "stderr",
     "output_type": "stream",
     "text": [
      "İşlenen Kayıtlar: 29998it [1:09:34, 23.29it/s]"
     ]
    },
    {
     "name": "stdout",
     "output_type": "stream",
     "text": [
      "inserting records to db 500\n"
     ]
    },
    {
     "name": "stderr",
     "output_type": "stream",
     "text": [
      "İşlenen Kayıtlar: 30499it [1:10:07, 18.40it/s]"
     ]
    },
    {
     "name": "stdout",
     "output_type": "stream",
     "text": [
      "inserting records to db 500\n"
     ]
    },
    {
     "name": "stderr",
     "output_type": "stream",
     "text": [
      "İşlenen Kayıtlar: 30998it [1:10:39, 21.44it/s]"
     ]
    },
    {
     "name": "stdout",
     "output_type": "stream",
     "text": [
      "inserting records to db 500\n"
     ]
    },
    {
     "name": "stderr",
     "output_type": "stream",
     "text": [
      "İşlenen Kayıtlar: 31499it [1:11:18, 23.07it/s]"
     ]
    },
    {
     "name": "stdout",
     "output_type": "stream",
     "text": [
      "inserting records to db 500\n"
     ]
    },
    {
     "name": "stderr",
     "output_type": "stream",
     "text": [
      "İşlenen Kayıtlar: 32000it [1:11:45, 19.90it/s]"
     ]
    },
    {
     "name": "stdout",
     "output_type": "stream",
     "text": [
      "inserting records to db 500\n"
     ]
    },
    {
     "name": "stderr",
     "output_type": "stream",
     "text": [
      "İşlenen Kayıtlar: 32500it [1:12:21, 11.13it/s]"
     ]
    },
    {
     "name": "stdout",
     "output_type": "stream",
     "text": [
      "inserting records to db 500\n"
     ]
    },
    {
     "name": "stderr",
     "output_type": "stream",
     "text": [
      "İşlenen Kayıtlar: 33000it [1:12:56, 16.99it/s]"
     ]
    },
    {
     "name": "stdout",
     "output_type": "stream",
     "text": [
      "inserting records to db 500\n"
     ]
    },
    {
     "name": "stderr",
     "output_type": "stream",
     "text": [
      "İşlenen Kayıtlar: 33500it [1:13:30, 19.64it/s]"
     ]
    },
    {
     "name": "stdout",
     "output_type": "stream",
     "text": [
      "inserting records to db 500\n"
     ]
    },
    {
     "name": "stderr",
     "output_type": "stream",
     "text": [
      "İşlenen Kayıtlar: 33999it [1:14:01, 32.04it/s]"
     ]
    },
    {
     "name": "stdout",
     "output_type": "stream",
     "text": [
      "inserting records to db 500\n"
     ]
    },
    {
     "name": "stderr",
     "output_type": "stream",
     "text": [
      "İşlenen Kayıtlar: 34499it [1:14:30, 20.31it/s]"
     ]
    },
    {
     "name": "stdout",
     "output_type": "stream",
     "text": [
      "inserting records to db 500\n"
     ]
    },
    {
     "name": "stderr",
     "output_type": "stream",
     "text": [
      "İşlenen Kayıtlar: 35000it [1:15:04, 10.57it/s]"
     ]
    },
    {
     "name": "stdout",
     "output_type": "stream",
     "text": [
      "inserting records to db 500\n"
     ]
    },
    {
     "name": "stderr",
     "output_type": "stream",
     "text": [
      "İşlenen Kayıtlar: 35499it [1:15:26, 35.39it/s]"
     ]
    },
    {
     "name": "stdout",
     "output_type": "stream",
     "text": [
      "inserting records to db 500\n"
     ]
    },
    {
     "name": "stderr",
     "output_type": "stream",
     "text": [
      "İşlenen Kayıtlar: 35999it [1:15:55, 21.93it/s]"
     ]
    },
    {
     "name": "stdout",
     "output_type": "stream",
     "text": [
      "inserting records to db 500\n"
     ]
    },
    {
     "name": "stderr",
     "output_type": "stream",
     "text": [
      "İşlenen Kayıtlar: 36498it [1:16:23, 17.22it/s]"
     ]
    },
    {
     "name": "stdout",
     "output_type": "stream",
     "text": [
      "inserting records to db 500\n"
     ]
    },
    {
     "name": "stderr",
     "output_type": "stream",
     "text": [
      "İşlenen Kayıtlar: 36998it [1:17:04, 22.12it/s]"
     ]
    },
    {
     "name": "stdout",
     "output_type": "stream",
     "text": [
      "inserting records to db 500\n"
     ]
    },
    {
     "name": "stderr",
     "output_type": "stream",
     "text": [
      "İşlenen Kayıtlar: 37498it [1:17:40, 47.54it/s]"
     ]
    },
    {
     "name": "stdout",
     "output_type": "stream",
     "text": [
      "inserting records to db 500\n"
     ]
    },
    {
     "name": "stderr",
     "output_type": "stream",
     "text": [
      "İşlenen Kayıtlar: 37999it [1:18:17, 17.82it/s]"
     ]
    },
    {
     "name": "stdout",
     "output_type": "stream",
     "text": [
      "inserting records to db 500\n"
     ]
    },
    {
     "name": "stderr",
     "output_type": "stream",
     "text": [
      "İşlenen Kayıtlar: 38500it [1:18:40, 22.80it/s]"
     ]
    },
    {
     "name": "stdout",
     "output_type": "stream",
     "text": [
      "inserting records to db 500\n"
     ]
    },
    {
     "name": "stderr",
     "output_type": "stream",
     "text": [
      "İşlenen Kayıtlar: 38999it [1:19:17, 17.98it/s]"
     ]
    },
    {
     "name": "stdout",
     "output_type": "stream",
     "text": [
      "inserting records to db 500\n"
     ]
    },
    {
     "name": "stderr",
     "output_type": "stream",
     "text": [
      "İşlenen Kayıtlar: 39499it [1:19:52, 26.45it/s]"
     ]
    },
    {
     "name": "stdout",
     "output_type": "stream",
     "text": [
      "inserting records to db 500\n"
     ]
    },
    {
     "name": "stderr",
     "output_type": "stream",
     "text": [
      "İşlenen Kayıtlar: 39998it [1:20:22,  2.29it/s]"
     ]
    },
    {
     "name": "stdout",
     "output_type": "stream",
     "text": [
      "inserting records to db 500\n"
     ]
    },
    {
     "name": "stderr",
     "output_type": "stream",
     "text": [
      "İşlenen Kayıtlar: 40498it [1:20:46, 19.32it/s]"
     ]
    },
    {
     "name": "stdout",
     "output_type": "stream",
     "text": [
      "inserting records to db 500\n"
     ]
    },
    {
     "name": "stderr",
     "output_type": "stream",
     "text": [
      "İşlenen Kayıtlar: 40999it [1:21:19, 25.00it/s]"
     ]
    },
    {
     "name": "stdout",
     "output_type": "stream",
     "text": [
      "inserting records to db 500\n"
     ]
    },
    {
     "name": "stderr",
     "output_type": "stream",
     "text": [
      "İşlenen Kayıtlar: 41498it [1:21:58, 26.95it/s]"
     ]
    },
    {
     "name": "stdout",
     "output_type": "stream",
     "text": [
      "inserting records to db 500\n"
     ]
    },
    {
     "name": "stderr",
     "output_type": "stream",
     "text": [
      "İşlenen Kayıtlar: 41998it [1:22:35, 21.07it/s]"
     ]
    },
    {
     "name": "stdout",
     "output_type": "stream",
     "text": [
      "inserting records to db 500\n"
     ]
    },
    {
     "name": "stderr",
     "output_type": "stream",
     "text": [
      "İşlenen Kayıtlar: 42499it [1:23:00, 22.09it/s]"
     ]
    },
    {
     "name": "stdout",
     "output_type": "stream",
     "text": [
      "inserting records to db 500\n"
     ]
    },
    {
     "name": "stderr",
     "output_type": "stream",
     "text": [
      "İşlenen Kayıtlar: 42999it [1:23:33, 17.75it/s]"
     ]
    },
    {
     "name": "stdout",
     "output_type": "stream",
     "text": [
      "inserting records to db 500\n"
     ]
    },
    {
     "name": "stderr",
     "output_type": "stream",
     "text": [
      "İşlenen Kayıtlar: 43499it [1:24:15, 15.34it/s]"
     ]
    },
    {
     "name": "stdout",
     "output_type": "stream",
     "text": [
      "inserting records to db 500\n"
     ]
    },
    {
     "name": "stderr",
     "output_type": "stream",
     "text": [
      "İşlenen Kayıtlar: 44000it [1:24:52, 21.99it/s]"
     ]
    },
    {
     "name": "stdout",
     "output_type": "stream",
     "text": [
      "inserting records to db 500\n"
     ]
    },
    {
     "name": "stderr",
     "output_type": "stream",
     "text": [
      "İşlenen Kayıtlar: 44499it [1:25:31, 14.75it/s]"
     ]
    },
    {
     "name": "stdout",
     "output_type": "stream",
     "text": [
      "inserting records to db 500\n"
     ]
    },
    {
     "name": "stderr",
     "output_type": "stream",
     "text": [
      "İşlenen Kayıtlar: 44999it [1:26:03, 12.84it/s]"
     ]
    },
    {
     "name": "stdout",
     "output_type": "stream",
     "text": [
      "inserting records to db 500\n"
     ]
    },
    {
     "name": "stderr",
     "output_type": "stream",
     "text": [
      "İşlenen Kayıtlar: 45499it [1:26:54, 14.13it/s]"
     ]
    },
    {
     "name": "stdout",
     "output_type": "stream",
     "text": [
      "inserting records to db 500\n"
     ]
    },
    {
     "name": "stderr",
     "output_type": "stream",
     "text": [
      "İşlenen Kayıtlar: 45998it [1:27:39, 21.56it/s]"
     ]
    },
    {
     "name": "stdout",
     "output_type": "stream",
     "text": [
      "inserting records to db 500\n"
     ]
    },
    {
     "name": "stderr",
     "output_type": "stream",
     "text": [
      "İşlenen Kayıtlar: 46499it [1:28:16, 19.44it/s]"
     ]
    },
    {
     "name": "stdout",
     "output_type": "stream",
     "text": [
      "inserting records to db 500\n"
     ]
    },
    {
     "name": "stderr",
     "output_type": "stream",
     "text": [
      "İşlenen Kayıtlar: 46999it [1:28:43, 20.78it/s]"
     ]
    },
    {
     "name": "stdout",
     "output_type": "stream",
     "text": [
      "inserting records to db 500\n"
     ]
    },
    {
     "name": "stderr",
     "output_type": "stream",
     "text": [
      "İşlenen Kayıtlar: 47498it [1:29:21, 23.94it/s]"
     ]
    },
    {
     "name": "stdout",
     "output_type": "stream",
     "text": [
      "inserting records to db 500\n"
     ]
    },
    {
     "name": "stderr",
     "output_type": "stream",
     "text": [
      "İşlenen Kayıtlar: 48000it [1:29:53, 21.75it/s]"
     ]
    },
    {
     "name": "stdout",
     "output_type": "stream",
     "text": [
      "inserting records to db 500\n"
     ]
    },
    {
     "name": "stderr",
     "output_type": "stream",
     "text": [
      "İşlenen Kayıtlar: 48498it [1:30:13, 26.07it/s]"
     ]
    },
    {
     "name": "stdout",
     "output_type": "stream",
     "text": [
      "inserting records to db 500\n"
     ]
    },
    {
     "name": "stderr",
     "output_type": "stream",
     "text": [
      "İşlenen Kayıtlar: 48998it [1:30:43, 30.93it/s]"
     ]
    },
    {
     "name": "stdout",
     "output_type": "stream",
     "text": [
      "inserting records to db 500\n"
     ]
    },
    {
     "name": "stderr",
     "output_type": "stream",
     "text": [
      "İşlenen Kayıtlar: 49498it [1:31:16, 26.28it/s]"
     ]
    },
    {
     "name": "stdout",
     "output_type": "stream",
     "text": [
      "inserting records to db 500\n"
     ]
    },
    {
     "name": "stderr",
     "output_type": "stream",
     "text": [
      "İşlenen Kayıtlar: 49999it [1:31:47, 22.11it/s]"
     ]
    },
    {
     "name": "stdout",
     "output_type": "stream",
     "text": [
      "inserting records to db 500\n"
     ]
    },
    {
     "name": "stderr",
     "output_type": "stream",
     "text": [
      "İşlenen Kayıtlar: 50498it [1:32:21, 21.82it/s]"
     ]
    },
    {
     "name": "stdout",
     "output_type": "stream",
     "text": [
      "inserting records to db 500\n"
     ]
    },
    {
     "name": "stderr",
     "output_type": "stream",
     "text": [
      "İşlenen Kayıtlar: 51000it [1:32:42, 22.20it/s]"
     ]
    },
    {
     "name": "stdout",
     "output_type": "stream",
     "text": [
      "inserting records to db 500\n"
     ]
    },
    {
     "name": "stderr",
     "output_type": "stream",
     "text": [
      "İşlenen Kayıtlar: 51500it [1:33:13, 19.54it/s]"
     ]
    },
    {
     "name": "stdout",
     "output_type": "stream",
     "text": [
      "inserting records to db 500\n"
     ]
    },
    {
     "name": "stderr",
     "output_type": "stream",
     "text": [
      "İşlenen Kayıtlar: 51999it [1:33:40, 32.60it/s]"
     ]
    },
    {
     "name": "stdout",
     "output_type": "stream",
     "text": [
      "inserting records to db 500\n"
     ]
    },
    {
     "name": "stderr",
     "output_type": "stream",
     "text": [
      "İşlenen Kayıtlar: 52497it [1:34:07, 30.39it/s]"
     ]
    },
    {
     "name": "stdout",
     "output_type": "stream",
     "text": [
      "inserting records to db 500\n"
     ]
    },
    {
     "name": "stderr",
     "output_type": "stream",
     "text": [
      "İşlenen Kayıtlar: 52998it [1:34:34, 29.24it/s]"
     ]
    },
    {
     "name": "stdout",
     "output_type": "stream",
     "text": [
      "inserting records to db 500\n"
     ]
    },
    {
     "name": "stderr",
     "output_type": "stream",
     "text": [
      "İşlenen Kayıtlar: 53498it [1:34:53, 39.52it/s]"
     ]
    },
    {
     "name": "stdout",
     "output_type": "stream",
     "text": [
      "inserting records to db 500\n"
     ]
    },
    {
     "name": "stderr",
     "output_type": "stream",
     "text": [
      "İşlenen Kayıtlar: 53998it [1:35:20, 33.07it/s]"
     ]
    },
    {
     "name": "stdout",
     "output_type": "stream",
     "text": [
      "inserting records to db 500\n"
     ]
    },
    {
     "name": "stderr",
     "output_type": "stream",
     "text": [
      "İşlenen Kayıtlar: 54498it [1:35:45, 30.56it/s]"
     ]
    },
    {
     "name": "stdout",
     "output_type": "stream",
     "text": [
      "inserting records to db 500\n"
     ]
    },
    {
     "name": "stderr",
     "output_type": "stream",
     "text": [
      "İşlenen Kayıtlar: 55000it [1:36:02, 40.78it/s]"
     ]
    },
    {
     "name": "stdout",
     "output_type": "stream",
     "text": [
      "inserting records to db 500\n"
     ]
    },
    {
     "name": "stderr",
     "output_type": "stream",
     "text": [
      "İşlenen Kayıtlar: 55498it [1:36:27, 43.81it/s]"
     ]
    },
    {
     "name": "stdout",
     "output_type": "stream",
     "text": [
      "inserting records to db 500\n"
     ]
    },
    {
     "name": "stderr",
     "output_type": "stream",
     "text": [
      "İşlenen Kayıtlar: 55998it [1:36:45, 33.72it/s]"
     ]
    },
    {
     "name": "stdout",
     "output_type": "stream",
     "text": [
      "inserting records to db 500\n"
     ]
    },
    {
     "name": "stderr",
     "output_type": "stream",
     "text": [
      "İşlenen Kayıtlar: 56499it [1:37:13, 34.01it/s]"
     ]
    },
    {
     "name": "stdout",
     "output_type": "stream",
     "text": [
      "inserting records to db 500\n"
     ]
    },
    {
     "name": "stderr",
     "output_type": "stream",
     "text": [
      "İşlenen Kayıtlar: 57000it [1:37:38, 23.17it/s]"
     ]
    },
    {
     "name": "stdout",
     "output_type": "stream",
     "text": [
      "inserting records to db 500\n"
     ]
    },
    {
     "name": "stderr",
     "output_type": "stream",
     "text": [
      "İşlenen Kayıtlar: 57499it [1:38:07, 21.04it/s]"
     ]
    },
    {
     "name": "stdout",
     "output_type": "stream",
     "text": [
      "inserting records to db 500\n"
     ]
    },
    {
     "name": "stderr",
     "output_type": "stream",
     "text": [
      "İşlenen Kayıtlar: 57999it [1:38:36, 34.34it/s]"
     ]
    },
    {
     "name": "stdout",
     "output_type": "stream",
     "text": [
      "inserting records to db 500\n"
     ]
    },
    {
     "name": "stderr",
     "output_type": "stream",
     "text": [
      "İşlenen Kayıtlar: 58499it [1:39:08, 22.92it/s]"
     ]
    },
    {
     "name": "stdout",
     "output_type": "stream",
     "text": [
      "inserting records to db 500\n"
     ]
    },
    {
     "name": "stderr",
     "output_type": "stream",
     "text": [
      "İşlenen Kayıtlar: 58999it [1:39:53, 11.10it/s]"
     ]
    },
    {
     "name": "stdout",
     "output_type": "stream",
     "text": [
      "inserting records to db 500\n"
     ]
    },
    {
     "name": "stderr",
     "output_type": "stream",
     "text": [
      "İşlenen Kayıtlar: 59498it [1:40:33, 25.16it/s]"
     ]
    },
    {
     "name": "stdout",
     "output_type": "stream",
     "text": [
      "inserting records to db 500\n"
     ]
    },
    {
     "name": "stderr",
     "output_type": "stream",
     "text": [
      "İşlenen Kayıtlar: 59997it [1:41:03, 28.03it/s]"
     ]
    },
    {
     "name": "stdout",
     "output_type": "stream",
     "text": [
      "inserting records to db 500\n"
     ]
    },
    {
     "name": "stderr",
     "output_type": "stream",
     "text": [
      "İşlenen Kayıtlar: 60498it [1:41:30, 17.13it/s]"
     ]
    },
    {
     "name": "stdout",
     "output_type": "stream",
     "text": [
      "inserting records to db 500\n"
     ]
    },
    {
     "name": "stderr",
     "output_type": "stream",
     "text": [
      "İşlenen Kayıtlar: 60999it [1:42:05,  2.39it/s]"
     ]
    },
    {
     "name": "stdout",
     "output_type": "stream",
     "text": [
      "inserting records to db 500\n"
     ]
    },
    {
     "name": "stderr",
     "output_type": "stream",
     "text": [
      "İşlenen Kayıtlar: 61500it [1:42:27, 37.32it/s]"
     ]
    },
    {
     "name": "stdout",
     "output_type": "stream",
     "text": [
      "inserting records to db 500\n"
     ]
    },
    {
     "name": "stderr",
     "output_type": "stream",
     "text": [
      "İşlenen Kayıtlar: 61997it [1:42:55, 48.45it/s]"
     ]
    },
    {
     "name": "stdout",
     "output_type": "stream",
     "text": [
      "inserting records to db 500\n"
     ]
    },
    {
     "name": "stderr",
     "output_type": "stream",
     "text": [
      "İşlenen Kayıtlar: 62500it [1:43:25, 26.15it/s]"
     ]
    },
    {
     "name": "stdout",
     "output_type": "stream",
     "text": [
      "inserting records to db 500\n"
     ]
    },
    {
     "name": "stderr",
     "output_type": "stream",
     "text": [
      "İşlenen Kayıtlar: 62999it [1:44:00, 25.80it/s]"
     ]
    },
    {
     "name": "stdout",
     "output_type": "stream",
     "text": [
      "inserting records to db 500\n"
     ]
    },
    {
     "name": "stderr",
     "output_type": "stream",
     "text": [
      "İşlenen Kayıtlar: 63498it [1:44:36, 11.02it/s]"
     ]
    },
    {
     "name": "stdout",
     "output_type": "stream",
     "text": [
      "inserting records to db 500\n"
     ]
    },
    {
     "name": "stderr",
     "output_type": "stream",
     "text": [
      "İşlenen Kayıtlar: 63998it [1:44:58, 16.34it/s]"
     ]
    },
    {
     "name": "stdout",
     "output_type": "stream",
     "text": [
      "inserting records to db 500\n"
     ]
    },
    {
     "name": "stderr",
     "output_type": "stream",
     "text": [
      "İşlenen Kayıtlar: 64499it [1:45:32, 24.83it/s]"
     ]
    },
    {
     "name": "stdout",
     "output_type": "stream",
     "text": [
      "inserting records to db 500\n"
     ]
    },
    {
     "name": "stderr",
     "output_type": "stream",
     "text": [
      "İşlenen Kayıtlar: 65000it [1:45:58, 34.94it/s]"
     ]
    },
    {
     "name": "stdout",
     "output_type": "stream",
     "text": [
      "inserting records to db 500\n"
     ]
    },
    {
     "name": "stderr",
     "output_type": "stream",
     "text": [
      "İşlenen Kayıtlar: 65498it [1:46:26, 34.42it/s]"
     ]
    },
    {
     "name": "stdout",
     "output_type": "stream",
     "text": [
      "inserting records to db 500\n"
     ]
    },
    {
     "name": "stderr",
     "output_type": "stream",
     "text": [
      "İşlenen Kayıtlar: 65997it [1:46:53, 32.19it/s]"
     ]
    },
    {
     "name": "stdout",
     "output_type": "stream",
     "text": [
      "inserting records to db 500\n"
     ]
    },
    {
     "name": "stderr",
     "output_type": "stream",
     "text": [
      "İşlenen Kayıtlar: 66500it [1:47:18, 32.78it/s]"
     ]
    },
    {
     "name": "stdout",
     "output_type": "stream",
     "text": [
      "inserting records to db 500\n"
     ]
    },
    {
     "name": "stderr",
     "output_type": "stream",
     "text": [
      "İşlenen Kayıtlar: 67000it [1:47:36, 34.23it/s]"
     ]
    },
    {
     "name": "stdout",
     "output_type": "stream",
     "text": [
      "inserting records to db 500\n"
     ]
    },
    {
     "name": "stderr",
     "output_type": "stream",
     "text": [
      "İşlenen Kayıtlar: 67498it [1:48:14, 10.46it/s]"
     ]
    },
    {
     "name": "stdout",
     "output_type": "stream",
     "text": [
      "inserting records to db 500\n"
     ]
    },
    {
     "name": "stderr",
     "output_type": "stream",
     "text": [
      "İşlenen Kayıtlar: 68000it [1:48:33, 25.65it/s]"
     ]
    },
    {
     "name": "stdout",
     "output_type": "stream",
     "text": [
      "inserting records to db 500\n"
     ]
    },
    {
     "name": "stderr",
     "output_type": "stream",
     "text": [
      "İşlenen Kayıtlar: 68498it [1:49:07, 29.03it/s]"
     ]
    },
    {
     "name": "stdout",
     "output_type": "stream",
     "text": [
      "inserting records to db 500\n"
     ]
    },
    {
     "name": "stderr",
     "output_type": "stream",
     "text": [
      "İşlenen Kayıtlar: 68998it [1:49:43, 24.26it/s]"
     ]
    },
    {
     "name": "stdout",
     "output_type": "stream",
     "text": [
      "inserting records to db 500\n"
     ]
    },
    {
     "name": "stderr",
     "output_type": "stream",
     "text": [
      "İşlenen Kayıtlar: 69497it [1:50:15, 34.80it/s]"
     ]
    },
    {
     "name": "stdout",
     "output_type": "stream",
     "text": [
      "inserting records to db 500\n"
     ]
    },
    {
     "name": "stderr",
     "output_type": "stream",
     "text": [
      "İşlenen Kayıtlar: 69999it [1:50:43, 27.79it/s]"
     ]
    },
    {
     "name": "stdout",
     "output_type": "stream",
     "text": [
      "inserting records to db 500\n"
     ]
    },
    {
     "name": "stderr",
     "output_type": "stream",
     "text": [
      "İşlenen Kayıtlar: 70498it [1:51:15, 24.50it/s]"
     ]
    },
    {
     "name": "stdout",
     "output_type": "stream",
     "text": [
      "inserting records to db 500\n"
     ]
    },
    {
     "name": "stderr",
     "output_type": "stream",
     "text": [
      "İşlenen Kayıtlar: 70998it [1:51:49, 29.80it/s]"
     ]
    },
    {
     "name": "stdout",
     "output_type": "stream",
     "text": [
      "inserting records to db 500\n"
     ]
    },
    {
     "name": "stderr",
     "output_type": "stream",
     "text": [
      "İşlenen Kayıtlar: 71499it [1:52:21, 24.36it/s]"
     ]
    },
    {
     "name": "stdout",
     "output_type": "stream",
     "text": [
      "inserting records to db 500\n"
     ]
    },
    {
     "name": "stderr",
     "output_type": "stream",
     "text": [
      "İşlenen Kayıtlar: 72000it [1:52:51, 28.93it/s]"
     ]
    },
    {
     "name": "stdout",
     "output_type": "stream",
     "text": [
      "inserting records to db 500\n"
     ]
    },
    {
     "name": "stderr",
     "output_type": "stream",
     "text": [
      "İşlenen Kayıtlar: 72500it [1:53:21, 31.78it/s]"
     ]
    },
    {
     "name": "stdout",
     "output_type": "stream",
     "text": [
      "inserting records to db 500\n"
     ]
    },
    {
     "name": "stderr",
     "output_type": "stream",
     "text": [
      "İşlenen Kayıtlar: 73000it [1:53:54, 25.19it/s]"
     ]
    },
    {
     "name": "stdout",
     "output_type": "stream",
     "text": [
      "inserting records to db 500\n"
     ]
    },
    {
     "name": "stderr",
     "output_type": "stream",
     "text": [
      "İşlenen Kayıtlar: 73498it [1:54:30, 20.22it/s]"
     ]
    },
    {
     "name": "stdout",
     "output_type": "stream",
     "text": [
      "inserting records to db 500\n"
     ]
    },
    {
     "name": "stderr",
     "output_type": "stream",
     "text": [
      "İşlenen Kayıtlar: 73995it [1:55:09, 17.59it/s]"
     ]
    },
    {
     "name": "stdout",
     "output_type": "stream",
     "text": [
      "inserting records to db 500\n"
     ]
    },
    {
     "name": "stderr",
     "output_type": "stream",
     "text": [
      "İşlenen Kayıtlar: 74500it [1:55:45, 21.24it/s]"
     ]
    },
    {
     "name": "stdout",
     "output_type": "stream",
     "text": [
      "inserting records to db 500\n"
     ]
    },
    {
     "name": "stderr",
     "output_type": "stream",
     "text": [
      "İşlenen Kayıtlar: 74999it [1:56:07, 36.44it/s]"
     ]
    },
    {
     "name": "stdout",
     "output_type": "stream",
     "text": [
      "inserting records to db 500\n"
     ]
    },
    {
     "name": "stderr",
     "output_type": "stream",
     "text": [
      "İşlenen Kayıtlar: 75499it [1:56:38, 31.77it/s]"
     ]
    },
    {
     "name": "stdout",
     "output_type": "stream",
     "text": [
      "inserting records to db 500\n"
     ]
    },
    {
     "name": "stderr",
     "output_type": "stream",
     "text": [
      "İşlenen Kayıtlar: 75999it [1:57:05, 45.70it/s]"
     ]
    },
    {
     "name": "stdout",
     "output_type": "stream",
     "text": [
      "inserting records to db 500\n"
     ]
    },
    {
     "name": "stderr",
     "output_type": "stream",
     "text": [
      "İşlenen Kayıtlar: 76499it [1:57:32, 32.34it/s]"
     ]
    },
    {
     "name": "stdout",
     "output_type": "stream",
     "text": [
      "inserting records to db 500\n"
     ]
    },
    {
     "name": "stderr",
     "output_type": "stream",
     "text": [
      "İşlenen Kayıtlar: 77000it [1:57:54, 33.92it/s]"
     ]
    },
    {
     "name": "stdout",
     "output_type": "stream",
     "text": [
      "inserting records to db 500\n"
     ]
    },
    {
     "name": "stderr",
     "output_type": "stream",
     "text": [
      "İşlenen Kayıtlar: 77499it [1:58:23, 40.52it/s]"
     ]
    },
    {
     "name": "stdout",
     "output_type": "stream",
     "text": [
      "inserting records to db 500\n"
     ]
    },
    {
     "name": "stderr",
     "output_type": "stream",
     "text": [
      "İşlenen Kayıtlar: 77999it [1:58:47, 37.00it/s]"
     ]
    },
    {
     "name": "stdout",
     "output_type": "stream",
     "text": [
      "inserting records to db 500\n"
     ]
    },
    {
     "name": "stderr",
     "output_type": "stream",
     "text": [
      "İşlenen Kayıtlar: 78500it [1:59:11, 30.83it/s]"
     ]
    },
    {
     "name": "stdout",
     "output_type": "stream",
     "text": [
      "inserting records to db 500\n"
     ]
    },
    {
     "name": "stderr",
     "output_type": "stream",
     "text": [
      "İşlenen Kayıtlar: 78998it [1:59:27, 27.86it/s]"
     ]
    },
    {
     "name": "stdout",
     "output_type": "stream",
     "text": [
      "inserting records to db 500\n"
     ]
    },
    {
     "name": "stderr",
     "output_type": "stream",
     "text": [
      "İşlenen Kayıtlar: 79500it [1:59:56, 34.54it/s]"
     ]
    },
    {
     "name": "stdout",
     "output_type": "stream",
     "text": [
      "inserting records to db 500\n"
     ]
    },
    {
     "name": "stderr",
     "output_type": "stream",
     "text": [
      "İşlenen Kayıtlar: 79998it [2:00:25, 15.20it/s]"
     ]
    },
    {
     "name": "stdout",
     "output_type": "stream",
     "text": [
      "inserting records to db 500\n"
     ]
    },
    {
     "name": "stderr",
     "output_type": "stream",
     "text": [
      "İşlenen Kayıtlar: 80499it [2:00:47, 29.50it/s]"
     ]
    },
    {
     "name": "stdout",
     "output_type": "stream",
     "text": [
      "inserting records to db 500\n"
     ]
    },
    {
     "name": "stderr",
     "output_type": "stream",
     "text": [
      "İşlenen Kayıtlar: 80999it [2:01:20, 19.17it/s]"
     ]
    },
    {
     "name": "stdout",
     "output_type": "stream",
     "text": [
      "inserting records to db 500\n"
     ]
    },
    {
     "name": "stderr",
     "output_type": "stream",
     "text": [
      "İşlenen Kayıtlar: 81499it [2:01:49, 49.45it/s]"
     ]
    },
    {
     "name": "stdout",
     "output_type": "stream",
     "text": [
      "inserting records to db 500\n"
     ]
    },
    {
     "name": "stderr",
     "output_type": "stream",
     "text": [
      "İşlenen Kayıtlar: 81999it [2:02:14, 34.88it/s]"
     ]
    },
    {
     "name": "stdout",
     "output_type": "stream",
     "text": [
      "inserting records to db 500\n"
     ]
    },
    {
     "name": "stderr",
     "output_type": "stream",
     "text": [
      "İşlenen Kayıtlar: 82497it [2:02:29, 44.62it/s]"
     ]
    },
    {
     "name": "stdout",
     "output_type": "stream",
     "text": [
      "inserting records to db 500\n"
     ]
    },
    {
     "name": "stderr",
     "output_type": "stream",
     "text": [
      "İşlenen Kayıtlar: 82999it [2:02:54, 42.98it/s]"
     ]
    },
    {
     "name": "stdout",
     "output_type": "stream",
     "text": [
      "inserting records to db 500\n"
     ]
    },
    {
     "name": "stderr",
     "output_type": "stream",
     "text": [
      "İşlenen Kayıtlar: 83500it [2:03:21, 32.69it/s]"
     ]
    },
    {
     "name": "stdout",
     "output_type": "stream",
     "text": [
      "inserting records to db 500\n"
     ]
    },
    {
     "name": "stderr",
     "output_type": "stream",
     "text": [
      "İşlenen Kayıtlar: 83998it [2:03:52,  4.07it/s]"
     ]
    },
    {
     "name": "stdout",
     "output_type": "stream",
     "text": [
      "inserting records to db 500\n"
     ]
    },
    {
     "name": "stderr",
     "output_type": "stream",
     "text": [
      "İşlenen Kayıtlar: 84498it [2:04:17, 18.16it/s]"
     ]
    },
    {
     "name": "stdout",
     "output_type": "stream",
     "text": [
      "inserting records to db 500\n"
     ]
    },
    {
     "name": "stderr",
     "output_type": "stream",
     "text": [
      "İşlenen Kayıtlar: 84999it [2:04:52, 33.37it/s]"
     ]
    },
    {
     "name": "stdout",
     "output_type": "stream",
     "text": [
      "inserting records to db 500\n"
     ]
    },
    {
     "name": "stderr",
     "output_type": "stream",
     "text": [
      "İşlenen Kayıtlar: 85500it [2:05:21, 28.90it/s]"
     ]
    },
    {
     "name": "stdout",
     "output_type": "stream",
     "text": [
      "inserting records to db 500\n"
     ]
    },
    {
     "name": "stderr",
     "output_type": "stream",
     "text": [
      "İşlenen Kayıtlar: 86000it [2:05:58,  1.54it/s]"
     ]
    },
    {
     "name": "stdout",
     "output_type": "stream",
     "text": [
      "inserting records to db 500\n"
     ]
    },
    {
     "name": "stderr",
     "output_type": "stream",
     "text": [
      "İşlenen Kayıtlar: 86497it [2:06:24, 27.29it/s]"
     ]
    },
    {
     "name": "stdout",
     "output_type": "stream",
     "text": [
      "inserting records to db 500\n"
     ]
    },
    {
     "name": "stderr",
     "output_type": "stream",
     "text": [
      "İşlenen Kayıtlar: 87000it [2:06:58, 21.92it/s]"
     ]
    },
    {
     "name": "stdout",
     "output_type": "stream",
     "text": [
      "inserting records to db 500\n"
     ]
    },
    {
     "name": "stderr",
     "output_type": "stream",
     "text": [
      "İşlenen Kayıtlar: 87498it [2:07:31, 25.36it/s]"
     ]
    },
    {
     "name": "stdout",
     "output_type": "stream",
     "text": [
      "inserting records to db 500\n"
     ]
    },
    {
     "name": "stderr",
     "output_type": "stream",
     "text": [
      "İşlenen Kayıtlar: 87998it [2:08:00, 30.32it/s]"
     ]
    },
    {
     "name": "stdout",
     "output_type": "stream",
     "text": [
      "inserting records to db 500\n"
     ]
    },
    {
     "name": "stderr",
     "output_type": "stream",
     "text": [
      "İşlenen Kayıtlar: 88497it [2:08:32, 26.37it/s]"
     ]
    },
    {
     "name": "stdout",
     "output_type": "stream",
     "text": [
      "inserting records to db 500\n"
     ]
    },
    {
     "name": "stderr",
     "output_type": "stream",
     "text": [
      "İşlenen Kayıtlar: 89000it [2:09:04, 36.68it/s]"
     ]
    },
    {
     "name": "stdout",
     "output_type": "stream",
     "text": [
      "inserting records to db 500\n"
     ]
    },
    {
     "name": "stderr",
     "output_type": "stream",
     "text": [
      "İşlenen Kayıtlar: 89498it [2:09:34, 22.80it/s]"
     ]
    },
    {
     "name": "stdout",
     "output_type": "stream",
     "text": [
      "inserting records to db 500\n"
     ]
    },
    {
     "name": "stderr",
     "output_type": "stream",
     "text": [
      "İşlenen Kayıtlar: 90000it [2:10:05, 44.87it/s]"
     ]
    },
    {
     "name": "stdout",
     "output_type": "stream",
     "text": [
      "inserting records to db 500\n"
     ]
    },
    {
     "name": "stderr",
     "output_type": "stream",
     "text": [
      "İşlenen Kayıtlar: 90500it [2:10:21, 29.61it/s]"
     ]
    },
    {
     "name": "stdout",
     "output_type": "stream",
     "text": [
      "inserting records to db 500\n"
     ]
    },
    {
     "name": "stderr",
     "output_type": "stream",
     "text": [
      "İşlenen Kayıtlar: 90997it [2:10:51, 25.92it/s]"
     ]
    },
    {
     "name": "stdout",
     "output_type": "stream",
     "text": [
      "inserting records to db 500\n"
     ]
    },
    {
     "name": "stderr",
     "output_type": "stream",
     "text": [
      "İşlenen Kayıtlar: 91498it [2:11:08, 21.05it/s]"
     ]
    },
    {
     "name": "stdout",
     "output_type": "stream",
     "text": [
      "inserting records to db 500\n"
     ]
    },
    {
     "name": "stderr",
     "output_type": "stream",
     "text": [
      "İşlenen Kayıtlar: 91996it [2:11:36, 50.63it/s]"
     ]
    },
    {
     "name": "stdout",
     "output_type": "stream",
     "text": [
      "inserting records to db 500\n"
     ]
    },
    {
     "name": "stderr",
     "output_type": "stream",
     "text": [
      "İşlenen Kayıtlar: 92498it [2:12:01, 35.33it/s]"
     ]
    },
    {
     "name": "stdout",
     "output_type": "stream",
     "text": [
      "inserting records to db 500\n"
     ]
    },
    {
     "name": "stderr",
     "output_type": "stream",
     "text": [
      "İşlenen Kayıtlar: 92999it [2:12:18, 30.88it/s]"
     ]
    },
    {
     "name": "stdout",
     "output_type": "stream",
     "text": [
      "inserting records to db 500\n"
     ]
    },
    {
     "name": "stderr",
     "output_type": "stream",
     "text": [
      "İşlenen Kayıtlar: 93498it [2:12:48, 33.22it/s]"
     ]
    },
    {
     "name": "stdout",
     "output_type": "stream",
     "text": [
      "inserting records to db 500\n"
     ]
    },
    {
     "name": "stderr",
     "output_type": "stream",
     "text": [
      "İşlenen Kayıtlar: 93999it [2:13:18, 30.33it/s]"
     ]
    },
    {
     "name": "stdout",
     "output_type": "stream",
     "text": [
      "inserting records to db 500\n"
     ]
    },
    {
     "name": "stderr",
     "output_type": "stream",
     "text": [
      "İşlenen Kayıtlar: 94500it [2:13:47, 19.76it/s]"
     ]
    },
    {
     "name": "stdout",
     "output_type": "stream",
     "text": [
      "inserting records to db 500\n"
     ]
    },
    {
     "name": "stderr",
     "output_type": "stream",
     "text": [
      "İşlenen Kayıtlar: 94998it [2:14:19, 15.89it/s]"
     ]
    },
    {
     "name": "stdout",
     "output_type": "stream",
     "text": [
      "inserting records to db 500\n"
     ]
    },
    {
     "name": "stderr",
     "output_type": "stream",
     "text": [
      "İşlenen Kayıtlar: 95498it [2:14:54, 24.53it/s]"
     ]
    },
    {
     "name": "stdout",
     "output_type": "stream",
     "text": [
      "inserting records to db 500\n"
     ]
    },
    {
     "name": "stderr",
     "output_type": "stream",
     "text": [
      "İşlenen Kayıtlar: 95999it [2:15:31, 21.95it/s]"
     ]
    },
    {
     "name": "stdout",
     "output_type": "stream",
     "text": [
      "inserting records to db 500\n"
     ]
    },
    {
     "name": "stderr",
     "output_type": "stream",
     "text": [
      "İşlenen Kayıtlar: 96499it [2:15:53, 36.39it/s]"
     ]
    },
    {
     "name": "stdout",
     "output_type": "stream",
     "text": [
      "inserting records to db 500\n"
     ]
    },
    {
     "name": "stderr",
     "output_type": "stream",
     "text": [
      "İşlenen Kayıtlar: 96999it [2:16:22, 33.79it/s]"
     ]
    },
    {
     "name": "stdout",
     "output_type": "stream",
     "text": [
      "inserting records to db 500\n"
     ]
    },
    {
     "name": "stderr",
     "output_type": "stream",
     "text": [
      "İşlenen Kayıtlar: 97497it [2:16:49,  3.31it/s]"
     ]
    },
    {
     "name": "stdout",
     "output_type": "stream",
     "text": [
      "inserting records to db 500\n"
     ]
    },
    {
     "name": "stderr",
     "output_type": "stream",
     "text": [
      "İşlenen Kayıtlar: 97997it [2:17:06, 38.51it/s]"
     ]
    },
    {
     "name": "stdout",
     "output_type": "stream",
     "text": [
      "inserting records to db 500\n"
     ]
    },
    {
     "name": "stderr",
     "output_type": "stream",
     "text": [
      "İşlenen Kayıtlar: 98500it [2:17:37, 26.32it/s]"
     ]
    },
    {
     "name": "stdout",
     "output_type": "stream",
     "text": [
      "inserting records to db 500\n"
     ]
    },
    {
     "name": "stderr",
     "output_type": "stream",
     "text": [
      "İşlenen Kayıtlar: 98985it [2:18:06, 11.94it/s]\n"
     ]
    },
    {
     "name": "stdout",
     "output_type": "stream",
     "text": [
      "Toplam işlenen kayıt: 98984\n",
      "Toplam geçen süre: 8291.32 saniye\n",
      "Saniyede ortalama kayıt: 11.94\n"
     ]
    }
   ],
   "source": [
    "# PostgreSQL bağlantı parametreleri\n",
    "db_params = {\n",
    "    'dbname': 'websites',\n",
    "    'user': 'postgres',\n",
    "    'password': '1234567',\n",
    "    'host': 'localhost',\n",
    "    'port': '5432'\n",
    "}\n",
    "\n",
    "# WARC dosyasının yolu\n",
    "warc_file = \"../website_data.warc\"\n",
    "\n",
    "# Kodu çalıştır\n",
    "process_warc_file(warc_file, db_params, batch_size=500)"
   ]
  }
 ],
 "metadata": {
  "kernelspec": {
   "display_name": "base",
   "language": "python",
   "name": "python3"
  },
  "language_info": {
   "codemirror_mode": {
    "name": "ipython",
    "version": 3
   },
   "file_extension": ".py",
   "mimetype": "text/x-python",
   "name": "python",
   "nbconvert_exporter": "python",
   "pygments_lexer": "ipython3",
   "version": "3.12.2"
  }
 },
 "nbformat": 4,
 "nbformat_minor": 5
}

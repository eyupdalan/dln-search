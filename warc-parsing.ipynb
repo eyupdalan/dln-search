{
 "cells": [
  {
   "cell_type": "markdown",
   "id": "e6f74597",
   "metadata": {},
   "source": [
    "# Parsing WARC File"
   ]
  },
  {
   "cell_type": "markdown",
   "id": "50270972",
   "metadata": {},
   "source": [
    "### 🛠 Installing Necessary Libraries"
   ]
  },
  {
   "cell_type": "code",
   "execution_count": 1,
   "id": "33aa26e3",
   "metadata": {},
   "outputs": [
    {
     "name": "stdout",
     "output_type": "stream",
     "text": [
      "Requirement already satisfied: warcio in /opt/anaconda3/lib/python3.12/site-packages (1.7.5)\n",
      "Requirement already satisfied: beautifulsoup4 in /opt/anaconda3/lib/python3.12/site-packages (4.12.3)\n",
      "Requirement already satisfied: six in /opt/anaconda3/lib/python3.12/site-packages (from warcio) (1.16.0)\n",
      "Requirement already satisfied: soupsieve>1.2 in /opt/anaconda3/lib/python3.12/site-packages (from beautifulsoup4) (2.5)\n",
      "Note: you may need to restart the kernel to use updated packages.\n"
     ]
    }
   ],
   "source": [
    "pip install warcio beautifulsoup4"
   ]
  },
  {
   "cell_type": "code",
   "execution_count": 16,
   "id": "edd25056",
   "metadata": {},
   "outputs": [],
   "source": [
    "from warcio.archiveiterator import ArchiveIterator\n",
    "from bs4 import BeautifulSoup\n",
    "import gzip\n",
    "\n",
    "def extract_html_from_warc(warc_path):\n",
    "    documents = []\n",
    "    with open(warc_path, 'rb') as stream:\n",
    "        for record in ArchiveIterator(stream):\n",
    "            if record.rec_type == 'response':\n",
    "                url = record.rec_headers.get_header('WARC-Target-URI')\n",
    "                raw_html = record.content_stream().read().decode('utf-8', errors='replace')\n",
    "\n",
    "                soup = BeautifulSoup(raw_html, 'lxml')\n",
    "                title = soup.title.string if soup.title else ''\n",
    "\n",
    "                documents.append({\n",
    "                    'url': url,\n",
    "                    'title': title,\n",
    "                    'raw_html': raw_html,\n",
    "                })\n",
    "\n",
    "                #if len(documents) >= max_pages:\n",
    "                #    break\n",
    "    return documents\n"
   ]
  },
  {
   "cell_type": "code",
   "execution_count": 17,
   "id": "088d627f",
   "metadata": {},
   "outputs": [],
   "source": [
    "data = \"./website_data.warc\""
   ]
  },
  {
   "cell_type": "code",
   "execution_count": null,
   "id": "5cc73c83",
   "metadata": {},
   "outputs": [],
   "source": [
    "docs = extract_html_from_warc(data)\n",
    "print(docs.__len__())\n",
    "# Save the extracted documents to a file"
   ]
  }
 ],
 "metadata": {
  "kernelspec": {
   "display_name": "base",
   "language": "python",
   "name": "python3"
  },
  "language_info": {
   "codemirror_mode": {
    "name": "ipython",
    "version": 3
   },
   "file_extension": ".py",
   "mimetype": "text/x-python",
   "name": "python",
   "nbconvert_exporter": "python",
   "pygments_lexer": "ipython3",
   "version": "3.12.2"
  }
 },
 "nbformat": 4,
 "nbformat_minor": 5
}
